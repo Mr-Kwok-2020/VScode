{
 "cells": [
  {
   "cell_type": "code",
   "execution_count": 4,
   "metadata": {},
   "outputs": [
    {
     "name": "stdout",
     "output_type": "stream",
     "text": [
      "拼接图片已保存到 output.jpg\n"
     ]
    }
   ],
   "source": [
    "from PIL import Image\n",
    "\n",
    "def join_images_side_by_side(image_path1, image_path2, output_path):\n",
    "    # 打开两张图片\n",
    "    img1 = Image.open(image_path1)\n",
    "    img2 = Image.open(image_path2)\n",
    "\n",
    "    # 获取两张图片的尺寸\n",
    "    width1, height1 = img1.size\n",
    "    width2, height2 = img2.size\n",
    "\n",
    "    # 计算拼接后的图片尺寸，高度取两张图片的最大高度\n",
    "    total_width = width1 + width2\n",
    "    max_height = max(height1, height2)\n",
    "\n",
    "    # 创建一张新的白色背景图片，用于拼接\n",
    "    new_img = Image.new('RGB', (total_width, max_height), (255, 255, 255))\n",
    "\n",
    "    # 将两张图片粘贴到新图片上\n",
    "    new_img.paste(img1, (0, 0))          # 左边粘贴img1\n",
    "    new_img.paste(img2, (width1, 0))     # 右边粘贴img2\n",
    "\n",
    "    # 保存拼接结果\n",
    "    new_img.save(output_path)\n",
    "    print(f\"拼接图片已保存到 {output_path}\")\n",
    "\n",
    "# 示例使用\n",
    "join_images_side_by_side(r'C:\\Users\\haokw\\Documents\\GitHub\\VScode\\平时\\123\\1.jpg', r'C:\\Users\\haokw\\Documents\\GitHub\\VScode\\平时\\123\\2.jpg', \"output.jpg\")\n"
   ]
  }
 ],
 "metadata": {
  "kernelspec": {
   "display_name": "py39_tf",
   "language": "python",
   "name": "python3"
  },
  "language_info": {
   "codemirror_mode": {
    "name": "ipython",
    "version": 3
   },
   "file_extension": ".py",
   "mimetype": "text/x-python",
   "name": "python",
   "nbconvert_exporter": "python",
   "pygments_lexer": "ipython3",
   "version": "3.9.18"
  }
 },
 "nbformat": 4,
 "nbformat_minor": 2
}
