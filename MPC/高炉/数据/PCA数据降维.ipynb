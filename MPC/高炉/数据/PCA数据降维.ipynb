{
 "cells": [
  {
   "cell_type": "code",
   "execution_count": 3,
   "metadata": {},
   "outputs": [],
   "source": [
    "# 库文件\n",
    "import numpy as np\n",
    "import matplotlib.pyplot as plt\n",
    "import warnings\n",
    "warnings.filterwarnings(\"ignore\", category=UserWarning)\n",
    "warnings.filterwarnings(\"ignore\", category=FutureWarning)\n",
    "from sklearn.model_selection import train_test_split\n",
    "from sklearn.preprocessing import StandardScaler\n",
    "from skopt import gp_minimize\n",
    "from sklearn.svm import SVR\n",
    "from sklearn.metrics import mean_squared_error\n",
    "from scipy.optimize import minimize\n",
    "from sklearn.metrics.pairwise import rbf_kernel\n",
    "import pandas as pd\n",
    "import tensorflow as tf\n",
    "import torch\n",
    "import torch.nn as nn\n",
    "import torch.optim as optim\n",
    "import matplotlib.pyplot as plt\n",
    "from matplotlib.font_manager import FontProperties\n",
    "# 设置中文字体\n",
    "font = FontProperties(fname=r\"c:\\windows\\fonts\\simsun.ttc\", size=12)  # 替换为你的中文字体文件路径\n",
    "from sklearn.preprocessing import StandardScaler\n"
   ]
  },
  {
   "cell_type": "code",
   "execution_count": 4,
   "metadata": {},
   "outputs": [
    {
     "data": {
      "text/plain": [
       "Index(['SI插补', '铁口1温度插补', '主参数时间戳', '富氧率', '透气性指数', 'CO', 'H2', 'CO2', '标准风速',\n",
       "       '富氧流量', '冷风流量', '鼓风动能', '炉腹煤气量', '炉腹煤气指数', '理论燃烧温度', '顶压', '富氧压力',\n",
       "       '冷风压力', '全压差', '热风压力', '实际风速', '热风温度', '顶温东北', '顶温西南', '顶温西北', '顶温东南',\n",
       "       '阻力系数', '鼓风湿度', '设定喷煤量', '上小时喷煤量'],\n",
       "      dtype='object')"
      ]
     },
     "execution_count": 4,
     "metadata": {},
     "output_type": "execute_result"
    }
   ],
   "source": [
    "# 读取Excel文件\n",
    "excel_path = '数据-时间戳.xlsx'\n",
    "df_sheet = pd.read_excel(excel_path, sheet_name='Sheet4') \n",
    "df_sheet.columns\n"
   ]
  },
  {
   "cell_type": "code",
   "execution_count": 6,
   "metadata": {},
   "outputs": [
    {
     "name": "stdout",
     "output_type": "stream",
     "text": [
      "Top features: ['铁口1温度插补', 'SI插补', '冷风流量', '标准风速', '顶压', '热风压力', '冷风压力', '炉腹煤气量', '炉腹煤气指数', '理论燃烧温度', '全压差', '透气性指数', '富氧流量', '富氧率', 'CO', '鼓风动能', '阻力系数', 'CO2', '实际风速', '顶温西北', '顶温西南', '顶温东南', '热风温度', '设定喷煤量', '上小时喷煤量', '顶温东北', '富氧压力', '鼓风湿度', 'H2', '主参数时间戳']\n"
     ]
    }
   ],
   "source": [
    "# 替换 df 为你的实际数据\n",
    "# 假设你的DataFrame中包含了26个高炉参数和1列高炉温度\n",
    "# df = ...\n",
    "\n",
    "# 计算每个参数与高炉温度的相关性\n",
    "correlations = df_sheet.corr()['铁口1温度插补'].sort_values(ascending=False)\n",
    "\n",
    "# 选择最相关的前几个参数\n",
    "top_features = correlations.index.tolist()\n",
    "\n",
    "# 打印最相关的参数\n",
    "print(\"Top features:\", top_features)\n",
    "\n"
   ]
  },
  {
   "cell_type": "code",
   "execution_count": 8,
   "metadata": {},
   "outputs": [
    {
     "name": "stdout",
     "output_type": "stream",
     "text": [
      "Top features: ['铁口1温度插补', 'SI插补', '冷风流量', '标准风速', '顶压', '热风压力', '冷风压力', '炉腹煤气量', '炉腹煤气指数', '理论燃烧温度', '全压差']\n",
      "Correlation values:\n",
      "铁口1温度插补    1.000000\n",
      "SI插补       0.375828\n",
      "冷风流量       0.320184\n",
      "标准风速       0.318141\n",
      "顶压         0.256024\n",
      "热风压力       0.211145\n",
      "冷风压力       0.190231\n",
      "炉腹煤气量      0.182495\n",
      "炉腹煤气指数     0.182455\n",
      "理论燃烧温度     0.115219\n",
      "全压差        0.104914\n",
      "透气性指数      0.095349\n",
      "富氧流量       0.064247\n",
      "富氧率        0.044156\n",
      "CO         0.031485\n",
      "鼓风动能      -0.019820\n",
      "阻力系数      -0.044891\n",
      "CO2       -0.067563\n",
      "实际风速      -0.087441\n",
      "顶温西北      -0.088610\n",
      "顶温西南      -0.095167\n",
      "顶温东南      -0.101368\n",
      "热风温度      -0.119971\n",
      "设定喷煤量     -0.127220\n",
      "Name: 铁口1温度插补, dtype: float64\n"
     ]
    }
   ],
   "source": [
    "# 打印最相关的参数\n",
    "print(\"Top features:\", top_features)\n",
    "# 查看具体相关性数值\n",
    "print(\"Correlation values:\")\n",
    "print(correlations.head(24))\n"
   ]
  },
  {
   "cell_type": "code",
   "execution_count": null,
   "metadata": {},
   "outputs": [],
   "source": []
  }
 ],
 "metadata": {
  "kernelspec": {
   "display_name": "py39_tf",
   "language": "python",
   "name": "python3"
  },
  "language_info": {
   "codemirror_mode": {
    "name": "ipython",
    "version": 3
   },
   "file_extension": ".py",
   "mimetype": "text/x-python",
   "name": "python",
   "nbconvert_exporter": "python",
   "pygments_lexer": "ipython3",
   "version": "3.9.18"
  }
 },
 "nbformat": 4,
 "nbformat_minor": 2
}
