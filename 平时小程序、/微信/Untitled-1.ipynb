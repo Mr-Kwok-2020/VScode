{
 "cells": [
  {
   "cell_type": "code",
   "execution_count": 1,
   "metadata": {},
   "outputs": [],
   "source": [
    "import wxauto\n"
   ]
  },
  {
   "cell_type": "code",
   "execution_count": 4,
   "metadata": {},
   "outputs": [
    {
     "data": {
      "text/plain": [
       "'3.9.11.17'"
      ]
     },
     "execution_count": 4,
     "metadata": {},
     "output_type": "execute_result"
    }
   ],
   "source": [
    "wxauto.VERSION\n"
   ]
  },
  {
   "cell_type": "code",
   "execution_count": 5,
   "metadata": {},
   "outputs": [
    {
     "name": "stdout",
     "output_type": "stream",
     "text": [
      "初始化成功，获取到已登录窗口：夏代有工的玉\n"
     ]
    }
   ],
   "source": [
    "wx = wxauto.WeChat()\n"
   ]
  },
  {
   "cell_type": "code",
   "execution_count": 9,
   "metadata": {},
   "outputs": [],
   "source": [
    "listen_list = [\n",
    "    '徐凯文-浙大',\n",
    "    '此时此刻的云',\n",
    "    '白景文'\n",
    "]\n"
   ]
  },
  {
   "cell_type": "code",
   "execution_count": 10,
   "metadata": {},
   "outputs": [],
   "source": [
    "for i in listen_list:\n",
    "    wx.AddListenChat(who=i, savepic=True)\n"
   ]
  },
  {
   "cell_type": "code",
   "execution_count": null,
   "metadata": {},
   "outputs": [],
   "source": [
    "# 持续监听消息，并且收到消息后回复“收到”\n",
    "wait = 1  # 设置1秒查看一次是否有新消息\n",
    "while True:\n",
    "    msgs = wx.GetListenMessage()\n",
    "    for chat in msgs:\n",
    "        who = chat.who              # 获取聊天窗口名（人或群名）\n",
    "        one_msgs = msgs.get(chat)   # 获取消息内容\n",
    "        # 回复收到\n",
    "        for msg in one_msgs:\n",
    "            msgtype = msg.type       # 获取消息类型\n",
    "            content = msg.content    # 获取消息内容，字符串类型的消息内容\n",
    "            print(f'【{who}】：{content}')\n",
    "        # ===================================================\n",
    "        # 处理消息逻辑（如果有）\n",
    "        # \n",
    "        # 处理消息内容的逻辑每个人都不同，按自己想法写就好了，这里不写了\n",
    "        # \n",
    "        # ===================================================\n",
    "        \n",
    "            # 如果是好友发来的消息（即非系统消息等），则回复收到\n",
    "            if msgtype == 'friend':\n",
    "                chat.SendMsg('收到')  # 回复收到\n",
    "    time.sleep(wait)\n",
    "\n"
   ]
  }
 ],
 "metadata": {
  "kernelspec": {
   "display_name": "py39_tf",
   "language": "python",
   "name": "python3"
  },
  "language_info": {
   "codemirror_mode": {
    "name": "ipython",
    "version": 3
   },
   "file_extension": ".py",
   "mimetype": "text/x-python",
   "name": "python",
   "nbconvert_exporter": "python",
   "pygments_lexer": "ipython3",
   "version": "3.9.18"
  }
 },
 "nbformat": 4,
 "nbformat_minor": 2
}
