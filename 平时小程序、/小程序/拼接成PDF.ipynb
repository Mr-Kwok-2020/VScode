{
 "cells": [
  {
   "cell_type": "code",
   "execution_count": 1,
   "metadata": {},
   "outputs": [],
   "source": [
    "import os\n",
    "from PIL import Image\n",
    "from reportlab.pdfgen import canvas\n",
    "from reportlab.lib.pagesizes import A4\n"
   ]
  },
  {
   "cell_type": "code",
   "execution_count": 2,
   "metadata": {},
   "outputs": [],
   "source": [
    "\n",
    "def create_pdf_from_images(image_folder, output_pdf):\n",
    "    # 获取文件夹中的图片文件\n",
    "    image_files = [f for f in os.listdir(image_folder) if f.lower().endswith(('png', 'jpg', 'jpeg'))]\n",
    "    \n",
    "    # 按照文件名称从大到小排序\n",
    "    image_files.sort(reverse=True)\n",
    "    \n",
    "    # 创建 PDF\n",
    "    c = canvas.Canvas(output_pdf, pagesize=A4)\n",
    "    \n",
    "    # A4页面的宽高\n",
    "    page_width, page_height = A4\n",
    "    \n",
    "    for image_file in image_files:\n",
    "        # 打开图片\n",
    "        image_path = os.path.join(image_folder, image_file)\n",
    "        img = Image.open(image_path)\n",
    "        \n",
    "        # 获取图片的宽高比以适配A4页面\n",
    "        img_width, img_height = img.size\n",
    "        ratio = min(page_width / img_width, page_height / img_height)\n",
    "        img_width = int(img_width * ratio)\n",
    "        img_height = int(img_height * ratio)\n",
    "\n",
    "        # 保存到PDF中，位置居中\n",
    "        x = (page_width - img_width) / 2\n",
    "        y = (page_height - img_height) / 2\n",
    "        c.drawImage(image_path, x, y, width=img_width, height=img_height)\n",
    "        c.showPage()  # 新建一页\n",
    "    \n",
    "    c.save()\n"
   ]
  },
  {
   "cell_type": "code",
   "execution_count": 3,
   "metadata": {},
   "outputs": [],
   "source": [
    "# 示例使用\n",
    "image_folder = r\"C:\\Users\\haokw\\Desktop\\新建文件夹\"  # 图片文件夹路径\n",
    "output_pdf = r\"output2.pdf\"  # 输出的PDF路径\n",
    "create_pdf_from_images(image_folder, output_pdf)\n"
   ]
  }
 ],
 "metadata": {
  "kernelspec": {
   "display_name": "py39_tf",
   "language": "python",
   "name": "python3"
  },
  "language_info": {
   "codemirror_mode": {
    "name": "ipython",
    "version": 3
   },
   "file_extension": ".py",
   "mimetype": "text/x-python",
   "name": "python",
   "nbconvert_exporter": "python",
   "pygments_lexer": "ipython3",
   "version": "3.9.18"
  }
 },
 "nbformat": 4,
 "nbformat_minor": 2
}
