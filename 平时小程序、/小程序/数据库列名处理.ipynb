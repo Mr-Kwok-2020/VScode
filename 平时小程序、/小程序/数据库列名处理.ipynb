{
 "cells": [
  {
   "cell_type": "code",
   "execution_count": 4,
   "metadata": {},
   "outputs": [
    {
     "name": "stdout",
     "output_type": "stream",
     "text": [
      "数据已处理完成，并保存到 processed_1223.xlsx\n"
     ]
    }
   ],
   "source": [
    "import pandas as pd\n",
    "\n",
    "# 加载数据\n",
    "input_file = r\"C:\\Users\\haokw\\Documents\\GitHub\\VScode\\平时\\123.xlsx\"  # 替换为你的文件名\n",
    "df = pd.read_excel(input_file, header=None, names=['视图名称', '列名'])\n",
    "\n",
    "# 按视图名称分组，并重组表格\n",
    "grouped = df.groupby('视图名称')['列名'].apply(list).reset_index()\n",
    "\n",
    "# 创建新格式的数据表\n",
    "result = pd.DataFrame()\n",
    "\n",
    "for index, row in grouped.iterrows():\n",
    "    view_name = row['视图名称']\n",
    "    columns = row['列名']\n",
    "    \n",
    "    temp_df = pd.DataFrame({view_name: [view_name] + columns})\n",
    "    result = pd.concat([result, temp_df], axis=1)\n",
    "\n",
    "# 添加首列 \"视图名称\" 和 \"列名\"\n",
    "header = pd.DataFrame({\"视图名称\": [\"视图名称\"], \"列名\": [\"列名\"]})\n",
    "result = pd.concat([header, result], ignore_index=True)\n",
    "\n",
    "# 删除第一行\n",
    "result = result.iloc[1:].reset_index(drop=True)\n",
    "\n",
    "# 保存为新文件\n",
    "output_file = \"processed_1223.xlsx\"  # 输出文件名\n",
    "result.to_excel(output_file, index=False, header=False)\n",
    "\n",
    "print(f\"数据已处理完成，并保存到 {output_file}\")\n"
   ]
  }
 ],
 "metadata": {
  "kernelspec": {
   "display_name": "py39_tf",
   "language": "python",
   "name": "python3"
  },
  "language_info": {
   "codemirror_mode": {
    "name": "ipython",
    "version": 3
   },
   "file_extension": ".py",
   "mimetype": "text/x-python",
   "name": "python",
   "nbconvert_exporter": "python",
   "pygments_lexer": "ipython3",
   "version": "3.9.18"
  }
 },
 "nbformat": 4,
 "nbformat_minor": 2
}
