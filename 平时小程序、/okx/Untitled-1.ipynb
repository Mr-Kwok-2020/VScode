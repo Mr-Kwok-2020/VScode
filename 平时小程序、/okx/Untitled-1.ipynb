{
 "cells": [
  {
   "cell_type": "code",
   "execution_count": 19,
   "metadata": {},
   "outputs": [],
   "source": [
    "import pandas as pd\n",
    "\n",
    "# 加载Excel文件\n",
    "df = pd.read_excel(r'C:\\Users\\haokw\\Documents\\GitHub\\VScode\\平时小程序、\\okx\\ETH-USDT_history_data_2025_01_01_00_00_00_to_2025_02_23_14_00_00.xlsx')\n",
    "\n"
   ]
  },
  {
   "cell_type": "code",
   "execution_count": 23,
   "metadata": {},
   "outputs": [],
   "source": [
    "# 转换时间戳为 datetime 类型（如果还没有转换的话）\n",
    "df['timestamp'] = pd.to_datetime(df['timestamp'])\n",
    "\n",
    "# 计算简单移动平均（SMA）\n",
    "df['SMA_5'] = df['close'].rolling(window=5).mean()  # 5周期SMA\n",
    "df['SMA_20'] = df['close'].rolling(window=20).mean()  # 20周期SMA\n",
    "\n",
    "# 计算指数加权移动平均（EMA）\n",
    "df['EMA_5'] = df['close'].ewm(span=5, adjust=False).mean()  # 5周期EMA\n",
    "df['EMA_20'] = df['close'].ewm(span=20, adjust=False).mean()  # 20周期EMA\n",
    "\n",
    "# 计算MACD（平滑异同移动平均线）\n",
    "df['EMA_12'] = df['close'].ewm(span=12, adjust=False).mean()  # 12周期EMA\n",
    "df['EMA_26'] = df['close'].ewm(span=26, adjust=False).mean()  # 26周期EMA\n",
    "df['MACD'] = df['EMA_12'] - df['EMA_26']  # MACD线\n",
    "df['Signal_Line'] = df['MACD'].ewm(span=9, adjust=False).mean()  # Signal线\n",
    "\n",
    "# 计算布林带\n",
    "df['BB_upper'] = df['SMA_20'] + 2 * df['close'].rolling(window=20).std()  # 上轨\n",
    "df['BB_lower'] = df['SMA_20'] - 2 * df['close'].rolling(window=20).std()  # 下轨\n",
    "\n",
    "# 计算成交量变化率（Volume Rate of Change）\n",
    "df['vol_change'] = df['vol'].pct_change()  # 成交量的百分比变化\n"
   ]
  },
  {
   "cell_type": "code",
   "execution_count": null,
   "metadata": {},
   "outputs": [],
   "source": []
  },
  {
   "cell_type": "code",
   "execution_count": null,
   "metadata": {},
   "outputs": [],
   "source": []
  },
  {
   "cell_type": "code",
   "execution_count": null,
   "metadata": {},
   "outputs": [],
   "source": []
  }
 ],
 "metadata": {
  "kernelspec": {
   "display_name": "py39_tf",
   "language": "python",
   "name": "python3"
  },
  "language_info": {
   "codemirror_mode": {
    "name": "ipython",
    "version": 3
   },
   "file_extension": ".py",
   "mimetype": "text/x-python",
   "name": "python",
   "nbconvert_exporter": "python",
   "pygments_lexer": "ipython3",
   "version": "3.9.18"
  }
 },
 "nbformat": 4,
 "nbformat_minor": 2
}
