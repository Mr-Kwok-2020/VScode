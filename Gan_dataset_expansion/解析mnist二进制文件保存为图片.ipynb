{
 "cells": [
  {
   "cell_type": "code",
   "execution_count": 6,
   "metadata": {},
   "outputs": [],
   "source": [
    "import os\n",
    "import struct\n",
    "import numpy as np\n",
    "import matplotlib.pyplot as plt\n",
    "import cv2\n",
    "from tqdm import tqdm"
   ]
  },
  {
   "cell_type": "code",
   "execution_count": 7,
   "metadata": {},
   "outputs": [],
   "source": [
    "MNIST_data_dir = r\"D:\\data\\MNIST\\raw\"  # MNIST数据文件路径，这里存放的是二进制文件\n",
    "train_val_data_dir = r\"D:\\data\\MNIST\\\\\"  # train和val的数据保存路径，train是6w张数据，val是1w张数据\n",
    "Number_of_requirements = 1000  # 每个数字取多少张数据作为训练数据及测试数据,解析到足量则提前结束"
   ]
  },
  {
   "cell_type": "code",
   "execution_count": 8,
   "metadata": {},
   "outputs": [],
   "source": [
    "def read_idx(filename):\n",
    "    \"\"\"\n",
    "    二进制文件解析函数\n",
    "    filename:二进制文件路径\n",
    "    \"\"\"\n",
    "    with open(filename, 'rb') as f:\n",
    "        zero, data_type, dims = struct.unpack('>HBB', f.read(4))\n",
    "        shape = tuple(struct.unpack('>I', f.read(4))[0] for d in range(dims))\n",
    "        return np.frombuffer(f.read(), dtype=np.uint8).reshape(shape)"
   ]
  },
  {
   "cell_type": "code",
   "execution_count": 9,
   "metadata": {},
   "outputs": [],
   "source": [
    "def save_img(data, labels, t_v):\n",
    "    \"\"\"\n",
    "    图片保存函数\n",
    "    data: 二进制文件解析出来的图片数据\n",
    "    labels: 标签\n",
    "    t_v: train或val\n",
    "    \"\"\"\n",
    "    count_dict = {}\n",
    "    for i in tqdm(range(len(data)), desc=t_v):\n",
    "        label = labels[i]\n",
    "        folder = os.path.join(t_v, str(label))\n",
    "        if not os.path.exists(folder):\n",
    "            os.makedirs(folder)\n",
    "        if sum(count_dict.values()) == 10*Number_of_requirements:  # 如果每个数字都达到需求个数，则结束\n",
    "            break\n",
    "        # 如果这个数字的个数达到要求则跳过这个数字的保存\n",
    "        if str(label) in count_dict and count_dict[str(label)] == Number_of_requirements:\n",
    "            continue\n",
    "        if os.path.exists(os.path.join(folder, f'image_{i}.png')):   #如果图片存在先删除之前保存的，再重新保存新的图片（防止之前保存的有问题）\n",
    "            os.remove(os.path.join(folder, f'image_{i}.png'))\n",
    "        cv2.imwrite(os.path.join(folder, f'image_{i}.jpg'), data[i])\n",
    "        # 保存一次图片，这个数字的计数+1，如果字典中没有，即为该数字的第一张图，赋值为1\n",
    "        count_dict[str(label)] = count_dict[str(label)] + \\\n",
    "            1 if str(label) in count_dict else 1\n",
    "    print('数量已达要求,停止解析:\\n', count_dict)"
   ]
  },
  {
   "cell_type": "code",
   "execution_count": 10,
   "metadata": {},
   "outputs": [
    {
     "name": "stderr",
     "output_type": "stream",
     "text": [
      "D:\\data\\MNIST\\\\train:   0%|          | 205/60000 [00:00<00:29, 2035.52it/s]"
     ]
    },
    {
     "name": "stderr",
     "output_type": "stream",
     "text": [
      "D:\\data\\MNIST\\\\train:  19%|█▉        | 11508/60000 [00:03<00:14, 3407.88it/s]\n"
     ]
    },
    {
     "name": "stdout",
     "output_type": "stream",
     "text": [
      "数量已达要求,停止解析:\n",
      " {'5': 1000, '0': 1000, '4': 1000, '1': 1000, '9': 1000, '2': 1000, '3': 1000, '6': 1000, '7': 1000, '8': 1000}\n"
     ]
    },
    {
     "name": "stderr",
     "output_type": "stream",
     "text": [
      "D:\\data\\MNIST\\\\val: 100%|██████████| 10000/10000 [00:03<00:00, 2878.44it/s]"
     ]
    },
    {
     "name": "stdout",
     "output_type": "stream",
     "text": [
      "数量已达要求,停止解析:\n",
      " {'7': 1000, '2': 1000, '1': 1000, '0': 980, '4': 982, '9': 1000, '5': 892, '6': 958, '3': 1000, '8': 974}\n"
     ]
    },
    {
     "name": "stderr",
     "output_type": "stream",
     "text": [
      "\n"
     ]
    }
   ],
   "source": [
    "if __name__ == '__main__':\n",
    "    for data_path, label_path, t_v in zip(['train-images-idx3-ubyte', 't10k-images-idx3-ubyte'],\n",
    "                                          ['train-labels-idx1-ubyte', 't10k-labels-idx1-ubyte'],\n",
    "                                          ['train', 'val']):\n",
    "        data = read_idx(os.path.join(MNIST_data_dir, data_path))  # 解析图片文件\n",
    "        labels = read_idx(os.path.join(MNIST_data_dir, label_path))  # 解析label文件\n",
    "        save_img(data, labels, os.path.join(train_val_data_dir, t_v))  # 保存图片"
   ]
  }
 ],
 "metadata": {
  "kernelspec": {
   "display_name": "python39_usual",
   "language": "python",
   "name": "python3"
  },
  "language_info": {
   "codemirror_mode": {
    "name": "ipython",
    "version": 3
   },
   "file_extension": ".py",
   "mimetype": "text/x-python",
   "name": "python",
   "nbconvert_exporter": "python",
   "pygments_lexer": "ipython3",
   "version": "3.9.18"
  }
 },
 "nbformat": 4,
 "nbformat_minor": 2
}
