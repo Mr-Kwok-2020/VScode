{
 "cells": [
  {
   "cell_type": "code",
   "execution_count": null,
   "metadata": {
    "collapsed": true,
    "deletable": true,
    "editable": true
   },
   "outputs": [],
   "source": [
    "import os\n",
    "import shutil\n",
    "\n",
    "# 指定照片所在的文件夹路径\n",
    "photo_folder = 'D:\\\\data\\\\cat_dog\\\\test'\n",
    "\n",
    "# 遍历文件夹中的每个文件\n",
    "for filename in os.listdir(photo_folder):\n",
    "    if filename.endswith(('.jpg', '.jpeg', '.png', '.gif', '.bmp')):\n",
    "        # 去除文件扩展名，以获取照片的名称\n",
    "        photo_name = os.path.splitext(filename)[0]\n",
    "\n",
    "        # 创建一个与照片同名的文件夹\n",
    "        photo_folder_path = os.path.join(photo_folder, photo_name)\n",
    "        os.makedirs(photo_folder_path, exist_ok=True)\n",
    "\n",
    "        # 移动照片到新创建的文件夹中\n",
    "        source_path = os.path.join(photo_folder, filename)\n",
    "        destination_path = os.path.join(photo_folder_path, filename)\n",
    "        shutil.move(source_path, destination_path)\n",
    "\n",
    "print(\"照片已分成同名文件夹。\")\n"
   ]
  }
 ],
 "metadata": {
  "kernelspec": {
   "display_name": "env2",
   "language": "python",
   "name": "python3"
  },
  "language_info": {
   "codemirror_mode": {
    "name": "ipython",
    "version": 3
   },
   "file_extension": ".py",
   "mimetype": "text/x-python",
   "name": "python",
   "nbconvert_exporter": "python",
   "pygments_lexer": "ipython3",
   "version": "3.9.18"
  }
 },
 "nbformat": 4,
 "nbformat_minor": 1
}
