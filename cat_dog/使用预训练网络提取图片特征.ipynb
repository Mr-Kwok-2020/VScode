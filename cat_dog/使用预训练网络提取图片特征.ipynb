{
 "cells": [
  {
   "cell_type": "code",
   "execution_count": null,
   "metadata": {
    "collapsed": false,
    "deletable": true,
    "editable": true
   },
   "outputs": [],
   "source": [
    "from keras.models import *\n",
    "from keras.layers import *\n",
    "from keras.applications import *\n",
    "from keras.preprocessing.image import *\n",
    "from keras.layers import Input\n",
    "from keras.applications import ResNet50\n",
    "import PIL\n",
    "import math\n",
    "import h5py"
   ]
  },
  {
   "cell_type": "code",
   "execution_count": null,
   "metadata": {
    "collapsed": false,
    "deletable": true,
    "editable": true
   },
   "outputs": [],
   "source": [
    "def write_gap(fir, MODEL, image_size, lambda_func=None):\n",
    "    batch_size = 20\n",
    "    width = image_size[0]\n",
    "    height = image_size[1]\n",
    "    input_tensor = Input((height, width, 3))\n",
    "    x = input_tensor\n",
    "    if lambda_func:\n",
    "        x = Lambda(lambda_func)(x)\n",
    "    base_model = MODEL(input_tensor=x, weights='imagenet', include_top=False)\n",
    "    model = Model(base_model.input, GlobalAveragePooling2D()(base_model.output))\n",
    "\n",
    "    gen = ImageDataGenerator()\n",
    "    train_generator = gen.flow_from_directory(r\"D:\\data\\kaggle\\cat_dog\\train\", image_size, shuffle=False, \n",
    "                                              batch_size=batch_size)\n",
    "    test_generator = gen.flow_from_directory(r\"D:\\data\\kaggle\\cat_dog\\test\", image_size, shuffle=False, \n",
    "                                             batch_size=batch_size, class_mode=None)\n",
    "\n",
    "    # 获取训练数据集的样本数量\n",
    "    train_samples = math.floor(train_generator.samples/batch_size)\n",
    "    test_samples = math.floor(test_generator.samples/batch_size)\n",
    "    print(train_samples)\n",
    "    print(test_samples)\n",
    "\n",
    "    train = model.predict(train_generator, steps=train_samples)\n",
    "    test = model.predict(test_generator, steps=test_samples)\n",
    "  \n",
    " \n",
    "    # 指定文件路径\n",
    "    file_path = 'my_gap\\\\gap_my_'+ fir +'.h5'\n",
    "\n",
    "    # 创建 HDF5 文件并写入数据\n",
    "    with h5py.File(file_path, 'w') as h:\n",
    "        # 写入数据到 HDF5 文件\n",
    "        h.create_dataset(\"train\", data=train)\n",
    "        h.create_dataset(\"test\", data=test)\n",
    "        h.create_dataset(\"label\", data=train_generator.classes)   "
   ]
  },
  {
   "cell_type": "code",
   "execution_count": null,
   "metadata": {
    "collapsed": false,
    "deletable": true,
    "editable": true,
    "scrolled": false
   },
   "outputs": [],
   "source": [
    "write_gap(\"ResNet50\", ResNet50, (224, 224))"
   ]
  },
  {
   "cell_type": "code",
   "execution_count": null,
   "metadata": {
    "collapsed": false,
    "deletable": true,
    "editable": true
   },
   "outputs": [],
   "source": [
    "write_gap(\"Xception\", Xception, (299, 299), xception.preprocess_input)"
   ]
  },
  {
   "cell_type": "code",
   "execution_count": null,
   "metadata": {
    "collapsed": false,
    "deletable": true,
    "editable": true
   },
   "outputs": [],
   "source": [
    "write_gap(\"InceptionV3\", InceptionV3, (299, 299), inception_v3.preprocess_input)"
   ]
  },
  {
   "cell_type": "code",
   "execution_count": null,
   "metadata": {
    "collapsed": false,
    "deletable": true,
    "editable": true
   },
   "outputs": [],
   "source": [
    "write_gap(\"VGG16\", VGG16, (224, 224))"
   ]
  },
  {
   "cell_type": "code",
   "execution_count": null,
   "metadata": {
    "collapsed": false,
    "deletable": true,
    "editable": true
   },
   "outputs": [],
   "source": [
    "write_gap(\"VGG19\", VGG19, (224, 224))"
   ]
  }
 ],
 "metadata": {
  "kernelspec": {
   "display_name": "env2",
   "language": "python",
   "name": "python3"
  },
  "language_info": {
   "codemirror_mode": {
    "name": "ipython",
    "version": 3
   },
   "file_extension": ".py",
   "mimetype": "text/x-python",
   "name": "python",
   "nbconvert_exporter": "python",
   "pygments_lexer": "ipython3",
   "version": "3.9.18"
  }
 },
 "nbformat": 4,
 "nbformat_minor": 2
}
