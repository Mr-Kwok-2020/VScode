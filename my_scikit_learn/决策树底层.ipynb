{
 "cells": [
  {
   "cell_type": "code",
   "execution_count": 13,
   "metadata": {},
   "outputs": [],
   "source": [
    "#trees.py\n",
    "import pandas as pd\n",
    "from math import log\n",
    "def calShannonEnt(dataSet):\n",
    "    numEntries = len(dataSet)\n",
    "    labelCounts = {}\n",
    "    #为所有可能的分类创建字典\n",
    "    for featVec in dataSet:\n",
    "        currentLabel = featVec[-1]\n",
    "        if currentLabel not in labelCounts.keys():\n",
    "            labelCounts[currentLabel] = 0\n",
    "        labelCounts[currentLabel] += 1\n",
    "    print('labelCounts',labelCounts)\n",
    "    shannonEnt = 0.0\n",
    "    for key in labelCounts:\n",
    "        #计算熵，先求p\n",
    "        prob = float(labelCounts[key])/numEntries\n",
    "        shannonEnt -= prob *log(prob,2)\n",
    "    return shannonEnt\n"
   ]
  },
  {
   "cell_type": "code",
   "execution_count": 14,
   "metadata": {},
   "outputs": [],
   "source": [
    "def createDataSet():\n",
    "\tdataSet = [\n",
    "\t\t\t[0, 0, 0, 0, 'no'],\t\t\t\t\t\t\t\t\t\t\n",
    "\t\t\t[0, 0, 0, 1, 'no'],\n",
    "\t\t\t[0, 1, 0, 1, 'yes'],\n",
    "\t\t\t[0, 1, 1, 0, 'yes'],\n",
    "\t\t\t[0, 0, 0, 0, 'no'],\n",
    "\t\t\t[1, 0, 0, 0, 'no'],\n",
    "\t\t\t[1, 0, 0, 1, 'no'],\n",
    "\t\t\t[1, 1, 1, 1, 'yes'],\n",
    "\t\t\t[1, 0, 1, 2, 'yes'],\n",
    "\t\t\t[1, 0, 1, 2, 'yes'],\n",
    "\t\t\t[2, 0, 1, 2, 'yes'],\n",
    "\t\t\t[2, 0, 1, 1, 'yes'],\n",
    "\t\t\t[2, 1, 0, 1, 'yes'],\n",
    "\t\t\t[2, 1, 0, 2, 'yes'],\n",
    "\t\t\t[2, 0, 0, 0, 'no']\n",
    "\t\t\t]\n",
    "\tlabels = ['F1-AGE', 'F2-WORK', 'F3-HOME', 'F4-LOAN']\t\t\n",
    "\treturn dataSet, labels\n"
   ]
  },
  {
   "cell_type": "code",
   "execution_count": 15,
   "metadata": {},
   "outputs": [
    {
     "name": "stdout",
     "output_type": "stream",
     "text": [
      "数据集：[[0, 0, 0, 0, 'no'], [0, 0, 0, 1, 'yes'], [0, 1, 0, 1, 'yes'], [0, 1, 1, 0, 'no'], [0, 0, 0, 0, 'no'], [1, 0, 0, 0, 'no'], [1, 0, 0, 1, 'no'], [1, 1, 1, 1, 'yes'], [1, 0, 1, 2, 'yes'], [1, 0, 1, 2, 'yes'], [2, 0, 1, 2, 'yes'], [2, 0, 1, 1, 'yes'], [2, 1, 0, 1, 'yes'], [2, 1, 0, 2, 'yes'], [2, 0, 0, 0, 'no']]\n",
      " 标签：['F1-AGE', 'F2-WORK', 'F3-HOME', 'F4-LOAN']\n",
      "labelCounts {'no': 6, 'yes': 9}\n",
      "该数据集下的香农熵为:0.9709505944546686\n"
     ]
    }
   ],
   "source": [
    "myData,labels = createDataset()\n",
    "print(\"数据集：{}\\n 标签：{}\".format(myData,labels))\n",
    "print(\"该数据集下的香农熵为:{}\".format(calShannonEnt(myData)))\n",
    "\n"
   ]
  },
  {
   "cell_type": "code",
   "execution_count": 16,
   "metadata": {},
   "outputs": [],
   "source": [
    "# myData[0][-1] = 'yes'\n",
    "# print('数据为:',myData)\n",
    "# print(\"该数据集下的香农熵为:\",calShannonEnt(myData))\n"
   ]
  },
  {
   "cell_type": "code",
   "execution_count": 17,
   "metadata": {},
   "outputs": [],
   "source": [
    "# 根据属性及其属性值划分数据集\n",
    "def splitDataSet(dataSet, axis, value):\n",
    "    '''dataSet : 待划分的数据集\n",
    "        axis : 属性及特征\n",
    "        value : 属性值及特征的hasattr值'''\n",
    "    retDataSet = []\n",
    "    for featVet in dataSet:\n",
    "        if featVet[axis] == value:\n",
    "            reducedFeatVec = featVet[:axis]\n",
    "            reducedFeatVec.extend(featVet[axis+1:])\n",
    "            retDataSet.append(reducedFeatVec)\n",
    "    return retDataSet\n"
   ]
  },
  {
   "cell_type": "code",
   "execution_count": 18,
   "metadata": {},
   "outputs": [],
   "source": [
    "# print('划分前的数据集：',myData)\n",
    "# print('按照“离开水是否能生存”为划分属性')\n",
    "# print('划分前的数据集：',splitDataSet(myData,0,0))\n",
    "# print('划分前的数据集：',splitDataSet(myData,0,1))"
   ]
  },
  {
   "cell_type": "code",
   "execution_count": 19,
   "metadata": {},
   "outputs": [],
   "source": [
    "# 选择最好的数据集划分方式，及根绝信息增益选择划分属性\n",
    "def chooseBestFeatureToSplit(dataSet):\n",
    "    numFeatures = len(dataSet[0]) - 1\n",
    "    baseEntropy = calShannonEnt(dataSet)\n",
    "    bestInfoGain, bestFeature = 0, -1\n",
    "    for i in range(numFeatures):\n",
    "        featList = [example[i] for example in dataSet]\n",
    "        uniqueVals = set(featList)\n",
    "        newEntropy = 0.0\n",
    "        # 计算每种划分方式的信息熵\n",
    "        for value in uniqueVals:\n",
    "            subDataSet = splitDataSet(dataSet, i, value)\n",
    "            prob = len(subDataSet) / float(len(dataSet))\n",
    "            newEntropy += prob * calShannonEnt(subDataSet)\n",
    "        infoGain = baseEntropy - newEntropy\n",
    "        if(infoGain > bestInfoGain):\n",
    "            bestInfoGain = infoGain\n",
    "            bestFeature = i\n",
    "    return bestFeature\n"
   ]
  },
  {
   "cell_type": "code",
   "execution_count": 20,
   "metadata": {},
   "outputs": [],
   "source": [
    "# 找到出现次数最多的分类名称\n",
    "import operator\n",
    "\n",
    "def majorityCnt(classList):\n",
    "    classCount = {}\n",
    "    for vote in classList:\n",
    "        if vote not in classCount.keys():\n",
    "            classCount[vote] = 0\n",
    "        classCount[vote] += 1\n",
    "        sortedClassCount = sorted(\n",
    "            classCount.items(), key=operator.itemgetter(1), reverse=True)\n",
    "        return sortedClassCount[0][0]\n"
   ]
  },
  {
   "cell_type": "code",
   "execution_count": 21,
   "metadata": {},
   "outputs": [],
   "source": [
    "# 创建树的函数\n",
    "def creatTree(dataSet, labels):\n",
    "    classList = [example[-1] for example in dataSet]\n",
    "    print(classList)\n",
    "    # 类别完全相同停止划分\n",
    "    print(classList[2])\n",
    "    print(classList[2])\n",
    "    if classList.count(classList[0]) == len(classList):\n",
    "        return classList[0]\n",
    "    if len(dataSet[0]) == 1:\n",
    "        return majorityCnt(classList)\n",
    "    bestFeat = chooseBestFeatureToSplit(dataSet)\n",
    "    bestFeatLabel = labels[bestFeat]\n",
    "    myTree = {bestFeatLabel: {}}\n",
    "    del(labels[bestFeat])\n",
    "    featValues = [example[bestFeat] for example in dataSet]\n",
    "    uniqueVals = set(featValues)\n",
    "    for value in uniqueVals:\n",
    "        sublabels = labels[:] \n",
    "        myTree[bestFeatLabel][value] = creatTree(\n",
    "            splitDataSet(dataSet, bestFeat, value), sublabels)\n",
    "    return myTree\n",
    "\n",
    "\n"
   ]
  },
  {
   "cell_type": "code",
   "execution_count": 22,
   "metadata": {},
   "outputs": [
    {
     "name": "stdout",
     "output_type": "stream",
     "text": [
      "['no', 'yes', 'yes', 'no', 'no', 'no', 'no', 'yes', 'yes', 'yes', 'yes', 'yes', 'yes', 'yes', 'no']\n",
      "yes\n",
      "labelCounts {'no': 6, 'yes': 9}\n",
      "labelCounts {'no': 3, 'yes': 2}\n",
      "labelCounts {'no': 2, 'yes': 3}\n",
      "labelCounts {'yes': 4, 'no': 1}\n",
      "labelCounts {'no': 5, 'yes': 5}\n",
      "labelCounts {'yes': 4, 'no': 1}\n",
      "labelCounts {'no': 5, 'yes': 4}\n",
      "labelCounts {'no': 1, 'yes': 5}\n",
      "labelCounts {'no': 5}\n",
      "labelCounts {'yes': 5, 'no': 1}\n",
      "labelCounts {'yes': 4}\n",
      "['no', 'no', 'no', 'no', 'no']\n",
      "no\n",
      "['yes', 'yes', 'no', 'yes', 'yes', 'yes']\n",
      "no\n",
      "labelCounts {'yes': 5, 'no': 1}\n",
      "labelCounts {'yes': 2}\n",
      "labelCounts {'no': 1, 'yes': 1}\n",
      "labelCounts {'yes': 2}\n",
      "labelCounts {'yes': 2, 'no': 1}\n",
      "labelCounts {'yes': 3}\n",
      "labelCounts {'yes': 3, 'no': 1}\n",
      "labelCounts {'yes': 2}\n",
      "['yes', 'yes']\n"
     ]
    },
    {
     "ename": "IndexError",
     "evalue": "list index out of range",
     "output_type": "error",
     "traceback": [
      "\u001b[1;31m---------------------------------------------------------------------------\u001b[0m",
      "\u001b[1;31mIndexError\u001b[0m                                Traceback (most recent call last)",
      "\u001b[1;32mc:\\Users\\haokw\\Documents\\GitHub\\VScode\\my_scikit_learn\\决策树底层.ipynb 单元格 10\u001b[0m line \u001b[0;36m1\n\u001b[1;32m----> <a href='vscode-notebook-cell:/c%3A/Users/haokw/Documents/GitHub/VScode/my_scikit_learn/%E5%86%B3%E7%AD%96%E6%A0%91%E5%BA%95%E5%B1%82.ipynb#X13sZmlsZQ%3D%3D?line=0'>1</a>\u001b[0m tre  \u001b[39m=\u001b[39m creatTree(myData,labels)\n",
      "\u001b[1;32mc:\\Users\\haokw\\Documents\\GitHub\\VScode\\my_scikit_learn\\决策树底层.ipynb 单元格 10\u001b[0m line \u001b[0;36m1\n\u001b[0;32m     <a href='vscode-notebook-cell:/c%3A/Users/haokw/Documents/GitHub/VScode/my_scikit_learn/%E5%86%B3%E7%AD%96%E6%A0%91%E5%BA%95%E5%B1%82.ipynb#X13sZmlsZQ%3D%3D?line=16'>17</a>\u001b[0m \u001b[39mfor\u001b[39;00m value \u001b[39min\u001b[39;00m uniqueVals:\n\u001b[0;32m     <a href='vscode-notebook-cell:/c%3A/Users/haokw/Documents/GitHub/VScode/my_scikit_learn/%E5%86%B3%E7%AD%96%E6%A0%91%E5%BA%95%E5%B1%82.ipynb#X13sZmlsZQ%3D%3D?line=17'>18</a>\u001b[0m     sublabels \u001b[39m=\u001b[39m labels[:] \n\u001b[1;32m---> <a href='vscode-notebook-cell:/c%3A/Users/haokw/Documents/GitHub/VScode/my_scikit_learn/%E5%86%B3%E7%AD%96%E6%A0%91%E5%BA%95%E5%B1%82.ipynb#X13sZmlsZQ%3D%3D?line=18'>19</a>\u001b[0m     myTree[bestFeatLabel][value] \u001b[39m=\u001b[39m creatTree(\n\u001b[0;32m     <a href='vscode-notebook-cell:/c%3A/Users/haokw/Documents/GitHub/VScode/my_scikit_learn/%E5%86%B3%E7%AD%96%E6%A0%91%E5%BA%95%E5%B1%82.ipynb#X13sZmlsZQ%3D%3D?line=19'>20</a>\u001b[0m         splitDataSet(dataSet, bestFeat, value), sublabels)\n\u001b[0;32m     <a href='vscode-notebook-cell:/c%3A/Users/haokw/Documents/GitHub/VScode/my_scikit_learn/%E5%86%B3%E7%AD%96%E6%A0%91%E5%BA%95%E5%B1%82.ipynb#X13sZmlsZQ%3D%3D?line=20'>21</a>\u001b[0m \u001b[39mreturn\u001b[39;00m myTree\n",
      "\u001b[1;32mc:\\Users\\haokw\\Documents\\GitHub\\VScode\\my_scikit_learn\\决策树底层.ipynb 单元格 10\u001b[0m line \u001b[0;36m1\n\u001b[0;32m     <a href='vscode-notebook-cell:/c%3A/Users/haokw/Documents/GitHub/VScode/my_scikit_learn/%E5%86%B3%E7%AD%96%E6%A0%91%E5%BA%95%E5%B1%82.ipynb#X13sZmlsZQ%3D%3D?line=16'>17</a>\u001b[0m \u001b[39mfor\u001b[39;00m value \u001b[39min\u001b[39;00m uniqueVals:\n\u001b[0;32m     <a href='vscode-notebook-cell:/c%3A/Users/haokw/Documents/GitHub/VScode/my_scikit_learn/%E5%86%B3%E7%AD%96%E6%A0%91%E5%BA%95%E5%B1%82.ipynb#X13sZmlsZQ%3D%3D?line=17'>18</a>\u001b[0m     sublabels \u001b[39m=\u001b[39m labels[:] \n\u001b[1;32m---> <a href='vscode-notebook-cell:/c%3A/Users/haokw/Documents/GitHub/VScode/my_scikit_learn/%E5%86%B3%E7%AD%96%E6%A0%91%E5%BA%95%E5%B1%82.ipynb#X13sZmlsZQ%3D%3D?line=18'>19</a>\u001b[0m     myTree[bestFeatLabel][value] \u001b[39m=\u001b[39m creatTree(\n\u001b[0;32m     <a href='vscode-notebook-cell:/c%3A/Users/haokw/Documents/GitHub/VScode/my_scikit_learn/%E5%86%B3%E7%AD%96%E6%A0%91%E5%BA%95%E5%B1%82.ipynb#X13sZmlsZQ%3D%3D?line=19'>20</a>\u001b[0m         splitDataSet(dataSet, bestFeat, value), sublabels)\n\u001b[0;32m     <a href='vscode-notebook-cell:/c%3A/Users/haokw/Documents/GitHub/VScode/my_scikit_learn/%E5%86%B3%E7%AD%96%E6%A0%91%E5%BA%95%E5%B1%82.ipynb#X13sZmlsZQ%3D%3D?line=20'>21</a>\u001b[0m \u001b[39mreturn\u001b[39;00m myTree\n",
      "\u001b[1;32mc:\\Users\\haokw\\Documents\\GitHub\\VScode\\my_scikit_learn\\决策树底层.ipynb 单元格 10\u001b[0m line \u001b[0;36m6\n\u001b[0;32m      <a href='vscode-notebook-cell:/c%3A/Users/haokw/Documents/GitHub/VScode/my_scikit_learn/%E5%86%B3%E7%AD%96%E6%A0%91%E5%BA%95%E5%B1%82.ipynb#X13sZmlsZQ%3D%3D?line=3'>4</a>\u001b[0m \u001b[39mprint\u001b[39m(classList)\n\u001b[0;32m      <a href='vscode-notebook-cell:/c%3A/Users/haokw/Documents/GitHub/VScode/my_scikit_learn/%E5%86%B3%E7%AD%96%E6%A0%91%E5%BA%95%E5%B1%82.ipynb#X13sZmlsZQ%3D%3D?line=4'>5</a>\u001b[0m \u001b[39m# 类别完全相同停止划分\u001b[39;00m\n\u001b[1;32m----> <a href='vscode-notebook-cell:/c%3A/Users/haokw/Documents/GitHub/VScode/my_scikit_learn/%E5%86%B3%E7%AD%96%E6%A0%91%E5%BA%95%E5%B1%82.ipynb#X13sZmlsZQ%3D%3D?line=5'>6</a>\u001b[0m \u001b[39mprint\u001b[39m(classList[\u001b[39m2\u001b[39;49m])\n\u001b[0;32m      <a href='vscode-notebook-cell:/c%3A/Users/haokw/Documents/GitHub/VScode/my_scikit_learn/%E5%86%B3%E7%AD%96%E6%A0%91%E5%BA%95%E5%B1%82.ipynb#X13sZmlsZQ%3D%3D?line=6'>7</a>\u001b[0m \u001b[39mif\u001b[39;00m classList\u001b[39m.\u001b[39mcount(classList[\u001b[39m0\u001b[39m]) \u001b[39m==\u001b[39m \u001b[39mlen\u001b[39m(classList):\n\u001b[0;32m      <a href='vscode-notebook-cell:/c%3A/Users/haokw/Documents/GitHub/VScode/my_scikit_learn/%E5%86%B3%E7%AD%96%E6%A0%91%E5%BA%95%E5%B1%82.ipynb#X13sZmlsZQ%3D%3D?line=7'>8</a>\u001b[0m     \u001b[39mreturn\u001b[39;00m classList[\u001b[39m0\u001b[39m]\n",
      "\u001b[1;31mIndexError\u001b[0m: list index out of range"
     ]
    }
   ],
   "source": [
    "tre  = creatTree(myData,labels)\n"
   ]
  },
  {
   "cell_type": "code",
   "execution_count": null,
   "metadata": {},
   "outputs": [
    {
     "ename": "NameError",
     "evalue": "name 'plt' is not defined",
     "output_type": "error",
     "traceback": [
      "\u001b[1;31m---------------------------------------------------------------------------\u001b[0m",
      "\u001b[1;31mNameError\u001b[0m                                 Traceback (most recent call last)",
      "\u001b[1;32mc:\\Users\\haokw\\Documents\\GitHub\\VScode\\my_scikit_learn\\决策树底层.ipynb 单元格 11\u001b[0m line \u001b[0;36m3\n\u001b[0;32m     <a href='vscode-notebook-cell:/c%3A/Users/haokw/Documents/GitHub/VScode/my_scikit_learn/%E5%86%B3%E7%AD%96%E6%A0%91%E5%BA%95%E5%B1%82.ipynb#X16sZmlsZQ%3D%3D?line=34'>35</a>\u001b[0m     plotTree(inTree,(\u001b[39m0.5\u001b[39m,\u001b[39m1.0\u001b[39m),\u001b[39m\"\u001b[39m\u001b[39m\"\u001b[39m)\n\u001b[0;32m     <a href='vscode-notebook-cell:/c%3A/Users/haokw/Documents/GitHub/VScode/my_scikit_learn/%E5%86%B3%E7%AD%96%E6%A0%91%E5%BA%95%E5%B1%82.ipynb#X16sZmlsZQ%3D%3D?line=35'>36</a>\u001b[0m     plt\u001b[39m.\u001b[39mshow\n\u001b[1;32m---> <a href='vscode-notebook-cell:/c%3A/Users/haokw/Documents/GitHub/VScode/my_scikit_learn/%E5%86%B3%E7%AD%96%E6%A0%91%E5%BA%95%E5%B1%82.ipynb#X16sZmlsZQ%3D%3D?line=38'>39</a>\u001b[0m createPlot(tre)\n",
      "\u001b[1;32mc:\\Users\\haokw\\Documents\\GitHub\\VScode\\my_scikit_learn\\决策树底层.ipynb 单元格 11\u001b[0m line \u001b[0;36m2\n\u001b[0;32m     <a href='vscode-notebook-cell:/c%3A/Users/haokw/Documents/GitHub/VScode/my_scikit_learn/%E5%86%B3%E7%AD%96%E6%A0%91%E5%BA%95%E5%B1%82.ipynb#X16sZmlsZQ%3D%3D?line=25'>26</a>\u001b[0m \u001b[39mdef\u001b[39;00m \u001b[39mcreatePlot\u001b[39m(inTree):\n\u001b[1;32m---> <a href='vscode-notebook-cell:/c%3A/Users/haokw/Documents/GitHub/VScode/my_scikit_learn/%E5%86%B3%E7%AD%96%E6%A0%91%E5%BA%95%E5%B1%82.ipynb#X16sZmlsZQ%3D%3D?line=26'>27</a>\u001b[0m     fig \u001b[39m=\u001b[39m plt\u001b[39m.\u001b[39mfigure(\u001b[39m1\u001b[39m,facecolor\u001b[39m=\u001b[39m\u001b[39m'\u001b[39m\u001b[39mwhite\u001b[39m\u001b[39m'\u001b[39m)\n\u001b[0;32m     <a href='vscode-notebook-cell:/c%3A/Users/haokw/Documents/GitHub/VScode/my_scikit_learn/%E5%86%B3%E7%AD%96%E6%A0%91%E5%BA%95%E5%B1%82.ipynb#X16sZmlsZQ%3D%3D?line=27'>28</a>\u001b[0m     fig\u001b[39m.\u001b[39mclf()\n\u001b[0;32m     <a href='vscode-notebook-cell:/c%3A/Users/haokw/Documents/GitHub/VScode/my_scikit_learn/%E5%86%B3%E7%AD%96%E6%A0%91%E5%BA%95%E5%B1%82.ipynb#X16sZmlsZQ%3D%3D?line=28'>29</a>\u001b[0m     axprops \u001b[39m=\u001b[39m \u001b[39mdict\u001b[39m(xticks \u001b[39m=\u001b[39m [],yticks \u001b[39m=\u001b[39m [])\n",
      "\u001b[1;31mNameError\u001b[0m: name 'plt' is not defined"
     ]
    }
   ],
   "source": [
    "# treePlotter.py\n",
    "def plotMidText(cntrPt, parentPt, txtString):\n",
    "    xMid = (parentPt[0]-cntrPt[0])/2.0 + cntrPt[0]\n",
    "    yMid = (parentPt[1]-cntrPt[1])/2.0 + cntrPt[1]\n",
    "    createPlot.ax1.text(xMid, yMid, txtString)\n",
    "\n",
    "\n",
    "def plotTree(myTree, parentPt, nodeTxt):\n",
    "    numLeafs = getTreeDepth(myTree)\n",
    "    firstStr =  eval(str(myTree.keys()).replace('dict_keys(','').replace(')',''))[0]\n",
    "    cntrPt = (plotTree.xOff+(1.0 + float(numLeafs))/\n",
    "              2.0/plotTree.totalW, plotTree.yOff)\n",
    "    plotMidText(cntrPt, parentPt, nodeTxt)\n",
    "    plotNode(firstStr, cntrPt, parentPt, decisionNode)\n",
    "    secondDict = myTree[firstStr]\n",
    "    plotTree.yOff = plotTree.yOff - 1.0/plotTree.totalD\n",
    "    for key in secondDict.keys():\n",
    "        if type(secondDict[key]).__name__ == 'dict':\n",
    "            plotTree(secondDict[key], cntrPt, str(key))\n",
    "        else:\n",
    "            plotTree.xOff = plotTree.xOff +1.0/plotTree.totalW\n",
    "            plotNode(secondDict[key],(plotTree.xOff,plotTree.yOff),cntrPt,leafNode)\n",
    "            plotMidText((plotTree.xOff,plotTree.yOff),cntrPt,str(key))\n",
    "    plotTree.yOff = plotTree.yOff +1.0/plotTree.totalD\n",
    "\n",
    "def createPlot(inTree):\n",
    "    fig = plt.figure(1,facecolor='white')\n",
    "    fig.clf()\n",
    "    axprops = dict(xticks = [],yticks = [])\n",
    "    createPlot.ax1 = plt.subplot(111,frameon = False,**axprops)\n",
    "    plotTree.totalW = float(getNumLeaves(inTree))\n",
    "    plotTree.totalD = float(getTreeDepth(inTree))\n",
    "    plotTree.xOff = -0.5/plotTree.totalW\n",
    "    plotTree.yOff = 1.0\n",
    "    plotTree(inTree,(0.5,1.0),\"\")\n",
    "    plt.show\n",
    "\n",
    "\n",
    "createPlot(tre)\n",
    "\n",
    "\n",
    "\n",
    "\n",
    "\n",
    "\n"
   ]
  },
  {
   "cell_type": "code",
   "execution_count": null,
   "metadata": {},
   "outputs": [],
   "source": []
  },
  {
   "cell_type": "code",
   "execution_count": null,
   "metadata": {},
   "outputs": [],
   "source": []
  }
 ],
 "metadata": {
  "kernelspec": {
   "display_name": "python39_usual",
   "language": "python",
   "name": "python3"
  },
  "language_info": {
   "codemirror_mode": {
    "name": "ipython",
    "version": 3
   },
   "file_extension": ".py",
   "mimetype": "text/x-python",
   "name": "python",
   "nbconvert_exporter": "python",
   "pygments_lexer": "ipython3",
   "version": "3.9.18"
  }
 },
 "nbformat": 4,
 "nbformat_minor": 2
}
