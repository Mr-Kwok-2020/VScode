{
 "cells": [
  {
   "cell_type": "markdown",
   "metadata": {},
   "source": [
    "###### 定义自定义的 Dataset 类，继承于 `torch.utils.data.Dataset`\n",
    "###### 创建自定义的 Dataset 实例：\n",
    "###### DataLoader对数据集进行进一步处理，例如乱序、批次划分等操作：\n",
    "###### 使用 `dataloader` 来迭代访问数据集中的数据和标签了。\n",
    "###### 每个批次的数据和标签会被作为一个元组返回。"
   ]
  },
  {
   "cell_type": "code",
   "execution_count": 1,
   "metadata": {},
   "outputs": [
    {
     "name": "stderr",
     "output_type": "stream",
     "text": [
      "e:\\conda\\envs\\py39_tf\\lib\\site-packages\\tqdm\\auto.py:21: TqdmWarning: IProgress not found. Please update jupyter and ipywidgets. See https://ipywidgets.readthedocs.io/en/stable/user_install.html\n",
      "  from .autonotebook import tqdm as notebook_tqdm\n"
     ]
    }
   ],
   "source": [
    "import torch\n",
    "from torch.utils.data import Dataset\n",
    "from torch.utils.data import DataLoader\n",
    "import numpy as np"
   ]
  },
  {
   "cell_type": "code",
   "execution_count": 16,
   "metadata": {},
   "outputs": [
    {
     "name": "stdout",
     "output_type": "stream",
     "text": [
      "(5, 5, 1)\n",
      "(5,)\n",
      "5\n",
      "torch.Size([5, 1])\n",
      "torch.Size([])\n"
     ]
    }
   ],
   "source": [
    "x_train = np.array([[1, 2, 3, 4, 5],[2, 2, 3, 4, 5],[3, 2, 3, 4, 5],[4, 2, 3, 4, 5],[5, 2, 3, 4, 5]]) # 这里的数据可以是任何合适的数据\n",
    "y_train = np.array([1, 2, 3, 4, 5])  # 对应的标签\n",
    "x_train=x_train[:,None].transpose(0,2,1)\n",
    "print(x_train.shape)\n",
    "print(y_train.shape)\n",
    "\n",
    "class MyDataset(Dataset):\n",
    "    def __init__(self, data, labels):\n",
    "        self.data = data  # 输入数据数组，形状为(670, 10, 1)\n",
    "        self.labels = labels  # 对应标签数组，形状为(670, 1)\n",
    "\n",
    "    def __len__(self):\n",
    "        return len(self.data)\n",
    "\n",
    "    def __getitem__(self, idx):\n",
    "        x = torch.tensor(self.data[idx], dtype=torch.float)\n",
    "        y = torch.tensor(self.labels[idx], dtype=torch.float)\n",
    "        return x, y\n",
    "# dataset = MyDataset(data, labels)\n",
    "train_dataset = MyDataset(x_train, y_train)\n",
    "\n",
    "print(len(train_dataset))\n",
    "print(train_dataset[0][0].shape)# 数据   dataset[第几个样本][0 数据  1标签]\n",
    "print(train_dataset[0][1].shape)# 对应标签"
   ]
  },
  {
   "cell_type": "code",
   "execution_count": 18,
   "metadata": {},
   "outputs": [],
   "source": [
    "# 注意：时间序列数据不能shuffle\n",
    "train_loader = DataLoader(\n",
    "    train_dataset,\n",
    "    batch_size=2,\n",
    "    shuffle=False,\n",
    "    drop_last=False,\n",
    ")"
   ]
  },
  {
   "cell_type": "code",
   "execution_count": 20,
   "metadata": {},
   "outputs": [
    {
     "name": "stdout",
     "output_type": "stream",
     "text": [
      "0 tensor([[[1.],\n",
      "         [2.],\n",
      "         [3.],\n",
      "         [4.],\n",
      "         [5.]],\n",
      "\n",
      "        [[2.],\n",
      "         [2.],\n",
      "         [3.],\n",
      "         [4.],\n",
      "         [5.]]]) tensor([1., 2.])\n",
      "1 tensor([[[3.],\n",
      "         [2.],\n",
      "         [3.],\n",
      "         [4.],\n",
      "         [5.]],\n",
      "\n",
      "        [[4.],\n",
      "         [2.],\n",
      "         [3.],\n",
      "         [4.],\n",
      "         [5.]]]) tensor([3., 4.])\n",
      "2 tensor([[[5.],\n",
      "         [2.],\n",
      "         [3.],\n",
      "         [4.],\n",
      "         [5.]]]) tensor([5.])\n"
     ]
    }
   ],
   "source": [
    "for id,(data,label) in enumerate(train_loader):\n",
    "    print(id,data,label)"
   ]
  }
 ],
 "metadata": {
  "kernelspec": {
   "display_name": "py39_tf",
   "language": "python",
   "name": "python3"
  },
  "language_info": {
   "codemirror_mode": {
    "name": "ipython",
    "version": 3
   },
   "file_extension": ".py",
   "mimetype": "text/x-python",
   "name": "python",
   "nbconvert_exporter": "python",
   "pygments_lexer": "ipython3",
   "version": "3.9.18"
  }
 },
 "nbformat": 4,
 "nbformat_minor": 2
}
