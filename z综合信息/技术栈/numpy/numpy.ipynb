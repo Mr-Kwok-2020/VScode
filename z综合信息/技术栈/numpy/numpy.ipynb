{
 "cells": [
  {
   "cell_type": "code",
   "execution_count": 4,
   "metadata": {},
   "outputs": [],
   "source": [
    "import numpy as np\n",
    "from itertools import chain\n"
   ]
  },
  {
   "cell_type": "code",
   "execution_count": 5,
   "metadata": {},
   "outputs": [
    {
     "name": "stdout",
     "output_type": "stream",
     "text": [
      "[1, 2, 3, 7, 8]\n"
     ]
    }
   ],
   "source": [
    "index_gaolu     = range(1, 4, 1)\n",
    "index_gaolu     = range(7, 9, 1)\n",
    "index_gaolu_combined = list(chain(\n",
    "                        range(1, 4, 1), \n",
    "                        range(7, 9, 1)\n",
    "                        ))\n",
    "print(index_gaolu_combined)\n"
   ]
  },
  {
   "cell_type": "code",
   "execution_count": 3,
   "metadata": {},
   "outputs": [
    {
     "data": {
      "text/plain": [
       "array([ 1,  2,  3, 11, 22, 33, 44, 55, 66])"
      ]
     },
     "execution_count": 3,
     "metadata": {},
     "output_type": "execute_result"
    }
   ],
   "source": [
    "a=np.array([1,2,3])\n",
    "b=np.array([11,22,33])\n",
    "c=np.array([44,55,66])\n",
    "np.concatenate((a,b,c),axis=0)  \n",
    "# 默认情况下，axis=0可以不写\n",
    "# #对于一维数组拼接，axis的值不影响最后的结果\n"
   ]
  },
  {
   "cell_type": "markdown",
   "metadata": {},
   "source": []
  },
  {
   "cell_type": "code",
   "execution_count": 4,
   "metadata": {},
   "outputs": [
    {
     "data": {
      "text/plain": [
       "array([[ 1,  2,  3],\n",
       "       [ 4,  5,  6],\n",
       "       [11, 21, 31],\n",
       "       [ 7,  8,  9]])"
      ]
     },
     "execution_count": 4,
     "metadata": {},
     "output_type": "execute_result"
    }
   ],
   "source": [
    "a=np.array([[1,2,3],[4,5,6]])\n",
    "b=np.array([[11,21,31],[7,8,9]])\n",
    "np.concatenate((a,b),axis=0)\n"
   ]
  },
  {
   "cell_type": "code",
   "execution_count": 5,
   "metadata": {},
   "outputs": [
    {
     "data": {
      "text/plain": [
       "array([[ 1,  2,  3, 11, 21, 31],\n",
       "       [ 4,  5,  6,  7,  8,  9]])"
      ]
     },
     "execution_count": 5,
     "metadata": {},
     "output_type": "execute_result"
    }
   ],
   "source": [
    "np.concatenate((a,b),axis=1)  #axis=1表示对应行的数组进行拼接\n"
   ]
  },
  {
   "cell_type": "code",
   "execution_count": 6,
   "metadata": {},
   "outputs": [
    {
     "name": "stdout",
     "output_type": "stream",
     "text": [
      "(2, 3) (2, 3) (2, 2, 3) (2, 1, 3) (2, 1, 3)\n"
     ]
    }
   ],
   "source": [
    "c = np.concatenate((a[:,None],b[:,None]),axis=1)\n",
    "print(a.shape,b.shape,c.shape,a[:,None].shape,b[:,None].shape)\n"
   ]
  },
  {
   "cell_type": "code",
   "execution_count": 7,
   "metadata": {},
   "outputs": [
    {
     "name": "stdout",
     "output_type": "stream",
     "text": [
      "[[1 2 3]\n",
      " [4 5 6]]\n",
      "(2, 3)\n",
      "[[[1 2 3]]\n",
      "\n",
      " [[4 5 6]]]\n",
      "(2, 1, 3)\n",
      "[[ 1  2  3 11 21 31]\n",
      " [ 4  5  6  7  8  9]]\n",
      "(2, 6)\n"
     ]
    }
   ],
   "source": [
    "a=np.array([[1,2,3],[4,5,6]])\n",
    "b=np.array([[11,21,31],[7,8,9]])\n",
    "print(a)\n",
    "print(a.shape)\n",
    "print(a[:, None])\n",
    "print(a[:, None].shape)\n",
    "c = np.concatenate((a,b),axis=1)\n",
    "print(c)\n",
    "print(c.shape)\n"
   ]
  },
  {
   "cell_type": "code",
   "execution_count": 8,
   "metadata": {},
   "outputs": [
    {
     "name": "stdout",
     "output_type": "stream",
     "text": [
      "[[1 2 3]\n",
      " [4 5 6]]\n",
      "[[11 21 31]\n",
      " [ 7  8  9]]\n",
      "(2, 3, 1) (2, 3, 1)\n",
      "[[[1]\n",
      "  [2]\n",
      "  [3]]\n",
      "\n",
      " [[4]\n",
      "  [5]\n",
      "  [6]]]\n",
      "[[[11]\n",
      "  [21]\n",
      "  [31]]\n",
      "\n",
      " [[ 7]\n",
      "  [ 8]\n",
      "  [ 9]]]\n",
      "[[[ 1 11]\n",
      "  [ 2 21]\n",
      "  [ 3 31]]\n",
      "\n",
      " [[ 4  7]\n",
      "  [ 5  8]\n",
      "  [ 6  9]]]\n",
      "(2, 3, 2)\n"
     ]
    }
   ],
   "source": [
    "x_train=np.array([[1,2,3],[4,5,6]])\n",
    "y_train=np.array([[11,21,31],[7,8,9]])\n",
    "print(x_train)\n",
    "print(y_train)\n",
    "\n",
    "\n",
    "x_train = np.reshape(x_train, (x_train.shape[0], x_train.shape[1], 1))\n",
    "y_train = np.reshape(y_train, (y_train.shape[0], x_train.shape[1],  1))\n",
    "print(x_train.shape,y_train.shape)\n",
    "\n",
    "print(x_train)\n",
    "print(y_train)\n",
    "\n",
    "c = np.concatenate((x_train,y_train),axis=2)\n",
    "print(c)\n",
    "print(c.shape)\n",
    "\n",
    "\n",
    "\n"
   ]
  },
  {
   "cell_type": "code",
   "execution_count": 9,
   "metadata": {},
   "outputs": [
    {
     "data": {
      "text/plain": [
       "array([1, 2, 3, 4, 5, 6])"
      ]
     },
     "execution_count": 9,
     "metadata": {},
     "output_type": "execute_result"
    }
   ],
   "source": [
    "x_train=np.array([[1,2,3],[4,5,6]])\n",
    "x_train.reshape(6)\n"
   ]
  }
 ],
 "metadata": {
  "kernelspec": {
   "display_name": "py39_tf",
   "language": "python",
   "name": "python3"
  },
  "language_info": {
   "codemirror_mode": {
    "name": "ipython",
    "version": 3
   },
   "file_extension": ".py",
   "mimetype": "text/x-python",
   "name": "python",
   "nbconvert_exporter": "python",
   "pygments_lexer": "ipython3",
   "version": "3.9.18"
  }
 },
 "nbformat": 4,
 "nbformat_minor": 2
}
