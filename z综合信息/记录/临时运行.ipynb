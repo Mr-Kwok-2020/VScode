{
 "cells": [
  {
   "cell_type": "code",
   "execution_count": null,
   "metadata": {},
   "outputs": [],
   "source": [
    "epochs = 10\n",
    "\n",
    "my_timer  = Timer()\n",
    "for epoch in range(epochs):\n",
    "\n",
    "    print(\"dfghs\\n\")\n",
    "    # my_timer.start()\n",
    "    for id,(data,target) in enumerate(train_loader):\n",
    "\n",
    "        if id == 0:\n",
    "            # print(my_timer.stop())\n",
    "            print(\"dfghs\\n\")\n",
    "\n",
    "print('avg_time:{}'.format(\n",
    "            my_timer.avg()          \n",
    "        ))\n"
   ]
  }
 ],
 "metadata": {
  "kernelspec": {
   "display_name": "python39_usual",
   "language": "python",
   "name": "python3"
  },
  "language_info": {
   "codemirror_mode": {
    "name": "ipython",
    "version": 3
   },
   "file_extension": ".py",
   "mimetype": "text/x-python",
   "name": "python",
   "nbconvert_exporter": "python",
   "pygments_lexer": "ipython3",
   "version": "3.9.18"
  },
  "orig_nbformat": 4
 },
 "nbformat": 4,
 "nbformat_minor": 2
}
