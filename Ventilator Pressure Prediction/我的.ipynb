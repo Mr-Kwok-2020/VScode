{
 "cells": [
  {
   "cell_type": "code",
   "execution_count": 87,
   "metadata": {},
   "outputs": [],
   "source": [
    "import pandas as pd\n",
    "import numpy as np\n",
    "import torch.nn as nn\n",
    "import torch\n",
    "from torch.utils.data import Dataset\n",
    "from torch.utils.data import DataLoader\n",
    "import torch.optim as optim\n",
    "import time\n",
    "import matplotlib.pyplot as plt\n"
   ]
  },
  {
   "cell_type": "code",
   "execution_count": 88,
   "metadata": {},
   "outputs": [],
   "source": [
    "DATA_PATH = r\"D:\\data\\kaggle\\ventilator-pressure-prediction\\\\\"\n",
    "\n",
    "\n",
    "sub = pd.read_csv(DATA_PATH + 'sample_submission.csv')\n",
    "df_train = pd.read_csv(DATA_PATH + 'train.csv')\n",
    "df_test = pd.read_csv(DATA_PATH + 'test.csv')"
   ]
  },
  {
   "cell_type": "code",
   "execution_count": 89,
   "metadata": {},
   "outputs": [],
   "source": [
    "df_train = df_train.groupby('breath_id').agg(list).reset_index()\n",
    "df_train\n",
    "\n",
    "df_train_u_in = np.array(df_train['u_in'].values.tolist()).reshape(-1,80,1)\n",
    "print(df_train_u_in.shape)\n",
    "\n",
    "df_train_R = np.array(df_train['R'].values.tolist()).reshape(-1,80,1)\n",
    "print(df_train_R.shape)\n",
    "\n",
    "df_train_C = np.array(df_train['C'].values.tolist()).reshape(-1,80,1)\n",
    "print(df_train_C.shape)\n",
    "\n",
    "df_train_u_in = np.array(df_train['u_in'].values.tolist()).reshape(-1,80,1)\n",
    "print(df_train_u_in.shape)\n",
    "\n",
    "df_train_u_out = np.array(df_train['u_out'].values.tolist()).reshape(-1,80,1)\n",
    "print(df_train_u_out.shape)\n",
    "\n",
    "df_train_pressure = np.array(df_train['pressure'].values.tolist()).reshape(-1,80,1)\n",
    "print(df_train_pressure.shape)\n",
    "\n",
    "train_x = np.concatenate([df_train_u_in,df_train_R,df_train_C,df_train_u_out],axis=2)\n",
    "print(train_x.shape)\n",
    "train_y = df_train_pressure\n",
    "print(train_y.shape)\n"
   ]
  },
  {
   "cell_type": "code",
   "execution_count": null,
   "metadata": {},
   "outputs": [
    {
     "name": "stdout",
     "output_type": "stream",
     "text": [
      "(50300, 80, 1)\n",
      "(50300, 80, 1)\n",
      "(50300, 80, 1)\n",
      "(50300, 80, 1)\n",
      "(50300, 80, 1)\n",
      "(50300, 80, 4)\n"
     ]
    }
   ],
   "source": [
    "df_test = df_test.groupby('breath_id').agg(list).reset_index()\n",
    "df_test\n",
    "\n",
    "df_test_u_in = np.array(df_test['u_in'].values.tolist()).reshape(-1,80,1)\n",
    "print(df_test_u_in.shape)\n",
    "\n",
    "df_test_R = np.array(df_test['R'].values.tolist()).reshape(-1,80,1)\n",
    "print(df_test_R.shape)\n",
    "\n",
    "df_test_C = np.array(df_test['C'].values.tolist()).reshape(-1,80,1)\n",
    "print(df_test_C.shape)\n",
    "\n",
    "df_test_u_in = np.array(df_test['u_in'].values.tolist()).reshape(-1,80,1)\n",
    "print(df_test_u_in.shape)\n",
    "\n",
    "df_test_u_out = np.array(df_test['u_out'].values.tolist()).reshape(-1,80,1)\n",
    "print(df_test_u_out.shape)\n",
    "\n",
    "\n",
    "\n",
    "test_x = np.concatenate([df_test_u_in,df_test_R,df_test_C,df_test_u_out],axis=2)\n",
    "print(test_x.shape)\n",
    "\n"
   ]
  },
  {
   "cell_type": "code",
   "execution_count": null,
   "metadata": {},
   "outputs": [],
   "source": [
    "class My_data_y_Dataset(Dataset):\n",
    "    def __init__(self, data, labels):\n",
    "        self.data = data  # 输入数据数组，形状为(670, 10, 1)\n",
    "        self.labels = labels  # 对应标签数组，形状为(670, 1)\n",
    "\n",
    "    def __len__(self):\n",
    "        return len(self.data)\n",
    "\n",
    "    def __getitem__(self, idx):\n",
    "        x = torch.tensor(self.data[idx], dtype=torch.float)\n",
    "        y = torch.tensor(self.labels[idx], dtype=torch.float)\n",
    "        return x, y\n",
    "    \n",
    "class My_data_Dataset(Dataset):\n",
    "    def __init__(self, data):\n",
    "        self.data = data  # 输入数据数组，形状为(670, 10, 1)\n",
    "\n",
    "    def __len__(self):\n",
    "        return len(self.data)\n",
    "\n",
    "    def __getitem__(self, idx):\n",
    "        x = torch.tensor(self.data[idx], dtype=torch.float)\n",
    "        return x\n",
    "# dataset = MyDataset(data, labels)\n",
    "train_all_dataset = My_data_y_Dataset(train_x, train_y)\n",
    "\n",
    "train_dataset, val_dataset = torch.utils.data.random_split(train_all_dataset, [0.9, 0.1])\n",
    "\n",
    "test_dataset = My_data_Dataset(test_x)\n"
   ]
  },
  {
   "cell_type": "code",
   "execution_count": null,
   "metadata": {},
   "outputs": [],
   "source": [
    "# 注意：时间序列数据不能shuffle\n",
    "train_loader = DataLoader(\n",
    "    train_dataset,\n",
    "    batch_size=50,\n",
    "    shuffle=False,\n",
    "    drop_last=True\n",
    ")\n",
    "# 注意：时间序列数据不能shuffle\n",
    "val_loader = DataLoader(\n",
    "    val_dataset,\n",
    "    batch_size=50,\n",
    "    shuffle=False,\n",
    "    drop_last=True\n",
    ")\n",
    "\n",
    "test_loader = DataLoader(\n",
    "    test_dataset,\n",
    "    batch_size=50,\n",
    "    shuffle=False,\n",
    "    drop_last=True\n",
    ")"
   ]
  },
  {
   "cell_type": "code",
   "execution_count": null,
   "metadata": {},
   "outputs": [],
   "source": [
    "class RNNModel(nn.Module):\n",
    "    def __init__(self):\n",
    "        super().__init__()\n",
    "        # [batch,seq_len,input_size]\n",
    "        # [50,80,4]\n",
    "        self.rnn = nn.RNN(\n",
    "            input_size = 4, \n",
    "            hidden_size = 20, \n",
    "            num_layers = 1, \n",
    "            batch_first=True, \n",
    "        )\n",
    "        self.fc = nn.Sequential(\n",
    "            nn.ReLU(),\n",
    "            nn.Linear(20,5),\n",
    "            nn.ReLU(),\n",
    "            nn.Linear(5,1)\n",
    "        )\n",
    "    # hidden_prev  [num_layers,seq_len,hidden_size]\n",
    "    def forward(self,x,hidden_prev):\n",
    "        # print(x.shape)\n",
    "\n",
    "        out, hidden_prev = self.rnn(x, hidden_prev)\n",
    "        # print(out.shape)\n",
    "        \n",
    "        \n",
    "        out = self.fc(out) #[50, 80, 1]\n",
    "        # print(out.shape)\n",
    "        \n",
    "        return out, hidden_prev\n",
    "        "
   ]
  },
  {
   "cell_type": "code",
   "execution_count": null,
   "metadata": {},
   "outputs": [],
   "source": [
    "device=\"cuda\"\n",
    "model = RNNModel()\n",
    "model = model.to(device)"
   ]
  },
  {
   "cell_type": "code",
   "execution_count": null,
   "metadata": {},
   "outputs": [
    {
     "name": "stdout",
     "output_type": "stream",
     "text": [
      "torch.Size([50, 80, 4])\n",
      "torch.Size([1, 50, 20])\n"
     ]
    }
   ],
   "source": [
    "temp = torch.tensor(np.arange(0,50*80*4).reshape(50,80,4),dtype=torch.float)\n",
    "print(temp.shape)\n",
    "hidden_prev = torch.tensor(np.zeros([1,50,20]),dtype=torch.float)\n",
    "hidden_prev = hidden_prev.to(device)\n",
    "print(hidden_prev.shape)"
   ]
  },
  {
   "cell_type": "code",
   "execution_count": null,
   "metadata": {},
   "outputs": [],
   "source": [
    "epochs = 3\n",
    "lr = 0.00001\n",
    "\n",
    "criterion = nn.MSELoss()\n",
    "optimizer = optim.Adam(model.parameters(),lr = lr)"
   ]
  },
  {
   "cell_type": "code",
   "execution_count": null,
   "metadata": {},
   "outputs": [
    {
     "name": "stdout",
     "output_type": "stream",
     "text": [
      "training epoch: 0/ 3 train_loss:183.7957 val_loss:179.5474 time:10.887635469436646\n",
      "training epoch: 1/ 3 train_loss:179.0912 val_loss:173.8221 time:9.117713928222656\n",
      "training epoch: 2/ 3 train_loss:173.1967 val_loss:168.3015 time:9.545637130737305\n"
     ]
    }
   ],
   "source": [
    "train_loss_list = []\n",
    "val_loss_list = []\n",
    "for epoch in range(epochs):\n",
    "\n",
    "    train_loss = 0\n",
    "    start_time = time.time()\n",
    "    # train\n",
    "    for id,(data,y) in enumerate(train_loader):\n",
    "        # print(id,data.shape,y.shape)\n",
    "        data,y = data.to(device),y.to(device)\n",
    "        pred , _ = model(data,hidden_prev)\n",
    "        # print(pred.shape,y.shape)\n",
    "        loss = criterion(pred, y)\n",
    "        model.zero_grad()\n",
    "        loss.backward()\n",
    "        optimizer.step()\n",
    "        train_loss += loss / len(train_loader)\n",
    "    train_loss_list.append(train_loss.cpu().detach().numpy())\n",
    "    # val\n",
    "    val_loss = 0\n",
    "    with torch.no_grad():\n",
    "        for id,(data,y) in enumerate(val_loader):\n",
    "            # print(id,data.shape,y.shape)\n",
    "            data,y = data.to(device),y.to(device)\n",
    "            pred , _ = model(data,hidden_prev)\n",
    "            # print(pred.shape,y.shape)\n",
    "            loss = criterion(pred, y)\n",
    "            val_loss += loss / len(val_loader)\n",
    "\n",
    "        val_loss_list.append(val_loss.cpu().detach().numpy())\n",
    "        end_time = time.time() - start_time\n",
    "    print(f'training epoch:{epoch:2d}/{epochs:2d} train_loss:{train_loss:.4f} val_loss:{val_loss:.4f} time:{end_time}')   "
   ]
  },
  {
   "cell_type": "code",
   "execution_count": null,
   "metadata": {},
   "outputs": [
    {
     "data": {
      "image/png": "[encoded data removed]",
      "text/plain": [
       "<Figure size 640x480 with 1 Axes>"
      ]
     },
     "metadata": {},
     "output_type": "display_data"
    },
    {
     "data": {
      "text/plain": [
       "<Figure size 640x480 with 0 Axes>"
      ]
     },
     "metadata": {},
     "output_type": "display_data"
    }
   ],
   "source": [
    "# 保存loss图像\n",
    "plt.plot(range(len(train_loss_list)), train_loss_list, label=\"train_loss\")\n",
    "plt.plot(range(len(val_loss_list)), val_loss_list, label=\"val_loss\")\n",
    "plt.xlabel(\"epoch\")\n",
    "plt.ylabel(\"loss\")\n",
    "plt.legend()\n",
    "plt.show()\n",
    "plt.clf()"
   ]
  },
  {
   "cell_type": "code",
   "execution_count": null,
   "metadata": {},
   "outputs": [
    {
     "name": "stdout",
     "output_type": "stream",
     "text": [
      "4024000\n"
     ]
    },
    {
     "data": {
      "text/plain": [
       "<function matplotlib.pyplot.show(close=None, block=None)>"
      ]
     },
     "execution_count": 81,
     "metadata": {},
     "output_type": "execute_result"
    },
    {
     "data": {
      "image/png": "[encoded data removed]",
      "text/plain": [
       "<Figure size 640x480 with 1 Axes>"
      ]
     },
     "metadata": {},
     "output_type": "display_data"
    }
   ],
   "source": [
    "result = []\n",
    "with torch.no_grad():\n",
    "    for id,(data) in enumerate(test_loader):\n",
    "        # print(id,data.shape,y.shape)\n",
    "        data = data.to(device)\n",
    "        pred , _ = model(data,hidden_prev)\n",
    "        pred = pred.cpu().detach().numpy().reshape(50,80).reshape(50*80)\n",
    "        result.extend(pred)\n",
    "print(len(result))\n",
    "        \n",
    "plt.plot(result)\n",
    "plt.show"
   ]
  },
  {
   "cell_type": "code",
   "execution_count": null,
   "metadata": {},
   "outputs": [
    {
     "data": {
      "text/html": [
       "<div>\n",
       "<style scoped>\n",
       "    .dataframe tbody tr th:only-of-type {\n",
       "        vertical-align: middle;\n",
       "    }\n",
       "\n",
       "    .dataframe tbody tr th {\n",
       "        vertical-align: top;\n",
       "    }\n",
       "\n",
       "    .dataframe thead th {\n",
       "        text-align: right;\n",
       "    }\n",
       "</style>\n",
       "<table border=\"1\" class=\"dataframe\">\n",
       "  <thead>\n",
       "    <tr style=\"text-align: right;\">\n",
       "      <th></th>\n",
       "      <th>id</th>\n",
       "      <th>pressure</th>\n",
       "    </tr>\n",
       "  </thead>\n",
       "  <tbody>\n",
       "    <tr>\n",
       "      <th>0</th>\n",
       "      <td>1</td>\n",
       "      <td>0</td>\n",
       "    </tr>\n",
       "    <tr>\n",
       "      <th>1</th>\n",
       "      <td>2</td>\n",
       "      <td>0</td>\n",
       "    </tr>\n",
       "    <tr>\n",
       "      <th>2</th>\n",
       "      <td>3</td>\n",
       "      <td>0</td>\n",
       "    </tr>\n",
       "    <tr>\n",
       "      <th>3</th>\n",
       "      <td>4</td>\n",
       "      <td>0</td>\n",
       "    </tr>\n",
       "    <tr>\n",
       "      <th>4</th>\n",
       "      <td>5</td>\n",
       "      <td>0</td>\n",
       "    </tr>\n",
       "  </tbody>\n",
       "</table>\n",
       "</div>"
      ],
      "text/plain": [
       "   id  pressure\n",
       "0   1         0\n",
       "1   2         0\n",
       "2   3         0\n",
       "3   4         0\n",
       "4   5         0"
      ]
     },
     "execution_count": 82,
     "metadata": {},
     "output_type": "execute_result"
    }
   ],
   "source": [
    "sub.head(5)"
   ]
  },
  {
   "cell_type": "code",
   "execution_count": null,
   "metadata": {},
   "outputs": [
    {
     "data": {
      "text/html": [
       "<div>\n",
       "<style scoped>\n",
       "    .dataframe tbody tr th:only-of-type {\n",
       "        vertical-align: middle;\n",
       "    }\n",
       "\n",
       "    .dataframe tbody tr th {\n",
       "        vertical-align: top;\n",
       "    }\n",
       "\n",
       "    .dataframe thead th {\n",
       "        text-align: right;\n",
       "    }\n",
       "</style>\n",
       "<table border=\"1\" class=\"dataframe\">\n",
       "  <thead>\n",
       "    <tr style=\"text-align: right;\">\n",
       "      <th></th>\n",
       "      <th>id</th>\n",
       "      <th>pressure</th>\n",
       "    </tr>\n",
       "  </thead>\n",
       "  <tbody>\n",
       "    <tr>\n",
       "      <th>count</th>\n",
       "      <td>4.024000e+06</td>\n",
       "      <td>4024000.0</td>\n",
       "    </tr>\n",
       "    <tr>\n",
       "      <th>mean</th>\n",
       "      <td>2.012000e+06</td>\n",
       "      <td>0.0</td>\n",
       "    </tr>\n",
       "    <tr>\n",
       "      <th>std</th>\n",
       "      <td>1.161629e+06</td>\n",
       "      <td>0.0</td>\n",
       "    </tr>\n",
       "    <tr>\n",
       "      <th>min</th>\n",
       "      <td>1.000000e+00</td>\n",
       "      <td>0.0</td>\n",
       "    </tr>\n",
       "    <tr>\n",
       "      <th>25%</th>\n",
       "      <td>1.006001e+06</td>\n",
       "      <td>0.0</td>\n",
       "    </tr>\n",
       "    <tr>\n",
       "      <th>50%</th>\n",
       "      <td>2.012000e+06</td>\n",
       "      <td>0.0</td>\n",
       "    </tr>\n",
       "    <tr>\n",
       "      <th>75%</th>\n",
       "      <td>3.018000e+06</td>\n",
       "      <td>0.0</td>\n",
       "    </tr>\n",
       "    <tr>\n",
       "      <th>max</th>\n",
       "      <td>4.024000e+06</td>\n",
       "      <td>0.0</td>\n",
       "    </tr>\n",
       "  </tbody>\n",
       "</table>\n",
       "</div>"
      ],
      "text/plain": [
       "                 id   pressure\n",
       "count  4.024000e+06  4024000.0\n",
       "mean   2.012000e+06        0.0\n",
       "std    1.161629e+06        0.0\n",
       "min    1.000000e+00        0.0\n",
       "25%    1.006001e+06        0.0\n",
       "50%    2.012000e+06        0.0\n",
       "75%    3.018000e+06        0.0\n",
       "max    4.024000e+06        0.0"
      ]
     },
     "execution_count": 83,
     "metadata": {},
     "output_type": "execute_result"
    }
   ],
   "source": [
    "sub.describe()"
   ]
  },
  {
   "cell_type": "code",
   "execution_count": null,
   "metadata": {},
   "outputs": [],
   "source": [
    "sub['pressure'] = result"
   ]
  },
  {
   "cell_type": "code",
   "execution_count": null,
   "metadata": {},
   "outputs": [
    {
     "data": {
      "text/html": [
       "<div>\n",
       "<style scoped>\n",
       "    .dataframe tbody tr th:only-of-type {\n",
       "        vertical-align: middle;\n",
       "    }\n",
       "\n",
       "    .dataframe tbody tr th {\n",
       "        vertical-align: top;\n",
       "    }\n",
       "\n",
       "    .dataframe thead th {\n",
       "        text-align: right;\n",
       "    }\n",
       "</style>\n",
       "<table border=\"1\" class=\"dataframe\">\n",
       "  <thead>\n",
       "    <tr style=\"text-align: right;\">\n",
       "      <th></th>\n",
       "      <th>id</th>\n",
       "      <th>pressure</th>\n",
       "    </tr>\n",
       "  </thead>\n",
       "  <tbody>\n",
       "    <tr>\n",
       "      <th>0</th>\n",
       "      <td>1</td>\n",
       "      <td>0.669762</td>\n",
       "    </tr>\n",
       "    <tr>\n",
       "      <th>1</th>\n",
       "      <td>2</td>\n",
       "      <td>0.937317</td>\n",
       "    </tr>\n",
       "    <tr>\n",
       "      <th>2</th>\n",
       "      <td>3</td>\n",
       "      <td>0.966778</td>\n",
       "    </tr>\n",
       "    <tr>\n",
       "      <th>3</th>\n",
       "      <td>4</td>\n",
       "      <td>0.945335</td>\n",
       "    </tr>\n",
       "    <tr>\n",
       "      <th>4</th>\n",
       "      <td>5</td>\n",
       "      <td>0.898531</td>\n",
       "    </tr>\n",
       "  </tbody>\n",
       "</table>\n",
       "</div>"
      ],
      "text/plain": [
       "   id  pressure\n",
       "0   1  0.669762\n",
       "1   2  0.937317\n",
       "2   3  0.966778\n",
       "3   4  0.945335\n",
       "4   5  0.898531"
      ]
     },
     "execution_count": 85,
     "metadata": {},
     "output_type": "execute_result"
    }
   ],
   "source": [
    "sub.head(5)"
   ]
  },
  {
   "cell_type": "code",
   "execution_count": null,
   "metadata": {},
   "outputs": [],
   "source": [
    "sub.to_csv('submission.csv', index=False)\n"
   ]
  }
 ],
 "metadata": {
  "kernelspec": {
   "display_name": "py39_tf",
   "language": "python",
   "name": "python3"
  },
  "language_info": {
   "codemirror_mode": {
    "name": "ipython",
    "version": 3
   },
   "file_extension": ".py",
   "mimetype": "text/x-python",
   "name": "python",
   "nbconvert_exporter": "python",
   "pygments_lexer": "ipython3",
   "version": "3.9.18"
  }
 },
 "nbformat": 4,
 "nbformat_minor": 2
}
