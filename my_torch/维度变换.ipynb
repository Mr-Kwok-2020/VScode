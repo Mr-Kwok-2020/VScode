{
 "cells": [
  {
   "cell_type": "code",
   "execution_count": null,
   "metadata": {},
   "outputs": [],
   "source": [
    "import torch.nn as nn\n",
    "import torch"
   ]
  },
  {
   "cell_type": "code",
   "execution_count": null,
   "metadata": {},
   "outputs": [],
   "source": [
    "a = torch.rand(3,2,5,5)\n",
    "a"
   ]
  },
  {
   "cell_type": "code",
   "execution_count": null,
   "metadata": {},
   "outputs": [],
   "source": [
    "a.shape"
   ]
  },
  {
   "cell_type": "code",
   "execution_count": null,
   "metadata": {},
   "outputs": [],
   "source": [
    "a.view(3,2,5*5)"
   ]
  },
  {
   "cell_type": "code",
   "execution_count": null,
   "metadata": {},
   "outputs": [],
   "source": [
    "a.view(3,2,5*5).shape"
   ]
  },
  {
   "cell_type": "code",
   "execution_count": null,
   "metadata": {},
   "outputs": [],
   "source": [
    "a.view(3*2,5*5)"
   ]
  },
  {
   "cell_type": "code",
   "execution_count": null,
   "metadata": {},
   "outputs": [],
   "source": [
    "a.view(3*2,5*5).shape"
   ]
  },
  {
   "cell_type": "code",
   "execution_count": null,
   "metadata": {},
   "outputs": [],
   "source": [
    "a.unsqueeze(0).shape"
   ]
  },
  {
   "cell_type": "code",
   "execution_count": null,
   "metadata": {},
   "outputs": [],
   "source": [
    "a.unsqueeze(-1).shape"
   ]
  },
  {
   "cell_type": "code",
   "execution_count": null,
   "metadata": {},
   "outputs": [],
   "source": [
    "a.unsqueeze(0)"
   ]
  },
  {
   "cell_type": "code",
   "execution_count": 37,
   "metadata": {},
   "outputs": [],
   "source": [
    "b = torch.rand(2)"
   ]
  },
  {
   "cell_type": "code",
   "execution_count": 38,
   "metadata": {},
   "outputs": [],
   "source": [
    "f = torch.rand(4,2,5,5)"
   ]
  },
  {
   "cell_type": "code",
   "execution_count": 40,
   "metadata": {},
   "outputs": [],
   "source": [
    "c = b.unsqueeze(-1).unsqueeze(-1).unsqueeze(0)\n",
    "d =c"
   ]
  },
  {
   "cell_type": "code",
   "execution_count": 41,
   "metadata": {},
   "outputs": [
    {
     "data": {
      "text/plain": [
       "torch.Size([1, 2, 1, 1])"
      ]
     },
     "execution_count": 41,
     "metadata": {},
     "output_type": "execute_result"
    }
   ],
   "source": [
    "c.shape"
   ]
  },
  {
   "cell_type": "code",
   "execution_count": 42,
   "metadata": {},
   "outputs": [
    {
     "data": {
      "text/plain": [
       "torch.Size([1, 2, 1])"
      ]
     },
     "execution_count": 42,
     "metadata": {},
     "output_type": "execute_result"
    }
   ],
   "source": [
    "c.squeeze(2).shape"
   ]
  },
  {
   "cell_type": "code",
   "execution_count": 43,
   "metadata": {},
   "outputs": [
    {
     "data": {
      "text/plain": [
       "torch.Size([1, 2, 1, 1])"
      ]
     },
     "execution_count": 43,
     "metadata": {},
     "output_type": "execute_result"
    }
   ],
   "source": [
    "d.shape"
   ]
  },
  {
   "cell_type": "code",
   "execution_count": 47,
   "metadata": {},
   "outputs": [
    {
     "data": {
      "text/plain": [
       "tensor([[[[0.5444, 0.5444, 0.5444, 0.5444, 0.5444],\n",
       "          [0.5444, 0.5444, 0.5444, 0.5444, 0.5444],\n",
       "          [0.5444, 0.5444, 0.5444, 0.5444, 0.5444],\n",
       "          [0.5444, 0.5444, 0.5444, 0.5444, 0.5444],\n",
       "          [0.5444, 0.5444, 0.5444, 0.5444, 0.5444]],\n",
       "\n",
       "         [[0.0368, 0.0368, 0.0368, 0.0368, 0.0368],\n",
       "          [0.0368, 0.0368, 0.0368, 0.0368, 0.0368],\n",
       "          [0.0368, 0.0368, 0.0368, 0.0368, 0.0368],\n",
       "          [0.0368, 0.0368, 0.0368, 0.0368, 0.0368],\n",
       "          [0.0368, 0.0368, 0.0368, 0.0368, 0.0368]]],\n",
       "\n",
       "\n",
       "        [[[0.5444, 0.5444, 0.5444, 0.5444, 0.5444],\n",
       "          [0.5444, 0.5444, 0.5444, 0.5444, 0.5444],\n",
       "          [0.5444, 0.5444, 0.5444, 0.5444, 0.5444],\n",
       "          [0.5444, 0.5444, 0.5444, 0.5444, 0.5444],\n",
       "          [0.5444, 0.5444, 0.5444, 0.5444, 0.5444]],\n",
       "\n",
       "         [[0.0368, 0.0368, 0.0368, 0.0368, 0.0368],\n",
       "          [0.0368, 0.0368, 0.0368, 0.0368, 0.0368],\n",
       "          [0.0368, 0.0368, 0.0368, 0.0368, 0.0368],\n",
       "          [0.0368, 0.0368, 0.0368, 0.0368, 0.0368],\n",
       "          [0.0368, 0.0368, 0.0368, 0.0368, 0.0368]]],\n",
       "\n",
       "\n",
       "        [[[0.5444, 0.5444, 0.5444, 0.5444, 0.5444],\n",
       "          [0.5444, 0.5444, 0.5444, 0.5444, 0.5444],\n",
       "          [0.5444, 0.5444, 0.5444, 0.5444, 0.5444],\n",
       "          [0.5444, 0.5444, 0.5444, 0.5444, 0.5444],\n",
       "          [0.5444, 0.5444, 0.5444, 0.5444, 0.5444]],\n",
       "\n",
       "         [[0.0368, 0.0368, 0.0368, 0.0368, 0.0368],\n",
       "          [0.0368, 0.0368, 0.0368, 0.0368, 0.0368],\n",
       "          [0.0368, 0.0368, 0.0368, 0.0368, 0.0368],\n",
       "          [0.0368, 0.0368, 0.0368, 0.0368, 0.0368],\n",
       "          [0.0368, 0.0368, 0.0368, 0.0368, 0.0368]]]])"
      ]
     },
     "execution_count": 47,
     "metadata": {},
     "output_type": "execute_result"
    }
   ],
   "source": [
    "d.expand(3,2,5,5)"
   ]
  },
  {
   "cell_type": "code",
   "execution_count": 45,
   "metadata": {},
   "outputs": [
    {
     "data": {
      "text/plain": [
       "torch.Size([3, 2, 5, 5])"
      ]
     },
     "execution_count": 45,
     "metadata": {},
     "output_type": "execute_result"
    }
   ],
   "source": [
    "d.expand(3,2,5,5).shape"
   ]
  },
  {
   "cell_type": "code",
   "execution_count": 46,
   "metadata": {},
   "outputs": [
    {
     "data": {
      "text/plain": [
       "torch.Size([3, 2, 5, 5])"
      ]
     },
     "execution_count": 46,
     "metadata": {},
     "output_type": "execute_result"
    }
   ],
   "source": [
    "a.shape"
   ]
  },
  {
   "cell_type": "code",
   "execution_count": 48,
   "metadata": {},
   "outputs": [
    {
     "data": {
      "text/plain": [
       "tensor([[[[0.5444, 0.5444, 0.5444, 0.5444, 0.5444],\n",
       "          [0.5444, 0.5444, 0.5444, 0.5444, 0.5444],\n",
       "          [0.5444, 0.5444, 0.5444, 0.5444, 0.5444],\n",
       "          [0.5444, 0.5444, 0.5444, 0.5444, 0.5444],\n",
       "          [0.5444, 0.5444, 0.5444, 0.5444, 0.5444]],\n",
       "\n",
       "         [[0.0368, 0.0368, 0.0368, 0.0368, 0.0368],\n",
       "          [0.0368, 0.0368, 0.0368, 0.0368, 0.0368],\n",
       "          [0.0368, 0.0368, 0.0368, 0.0368, 0.0368],\n",
       "          [0.0368, 0.0368, 0.0368, 0.0368, 0.0368],\n",
       "          [0.0368, 0.0368, 0.0368, 0.0368, 0.0368]],\n",
       "\n",
       "         [[0.5444, 0.5444, 0.5444, 0.5444, 0.5444],\n",
       "          [0.5444, 0.5444, 0.5444, 0.5444, 0.5444],\n",
       "          [0.5444, 0.5444, 0.5444, 0.5444, 0.5444],\n",
       "          [0.5444, 0.5444, 0.5444, 0.5444, 0.5444],\n",
       "          [0.5444, 0.5444, 0.5444, 0.5444, 0.5444]],\n",
       "\n",
       "         [[0.0368, 0.0368, 0.0368, 0.0368, 0.0368],\n",
       "          [0.0368, 0.0368, 0.0368, 0.0368, 0.0368],\n",
       "          [0.0368, 0.0368, 0.0368, 0.0368, 0.0368],\n",
       "          [0.0368, 0.0368, 0.0368, 0.0368, 0.0368],\n",
       "          [0.0368, 0.0368, 0.0368, 0.0368, 0.0368]]],\n",
       "\n",
       "\n",
       "        [[[0.5444, 0.5444, 0.5444, 0.5444, 0.5444],\n",
       "          [0.5444, 0.5444, 0.5444, 0.5444, 0.5444],\n",
       "          [0.5444, 0.5444, 0.5444, 0.5444, 0.5444],\n",
       "          [0.5444, 0.5444, 0.5444, 0.5444, 0.5444],\n",
       "          [0.5444, 0.5444, 0.5444, 0.5444, 0.5444]],\n",
       "\n",
       "         [[0.0368, 0.0368, 0.0368, 0.0368, 0.0368],\n",
       "          [0.0368, 0.0368, 0.0368, 0.0368, 0.0368],\n",
       "          [0.0368, 0.0368, 0.0368, 0.0368, 0.0368],\n",
       "          [0.0368, 0.0368, 0.0368, 0.0368, 0.0368],\n",
       "          [0.0368, 0.0368, 0.0368, 0.0368, 0.0368]],\n",
       "\n",
       "         [[0.5444, 0.5444, 0.5444, 0.5444, 0.5444],\n",
       "          [0.5444, 0.5444, 0.5444, 0.5444, 0.5444],\n",
       "          [0.5444, 0.5444, 0.5444, 0.5444, 0.5444],\n",
       "          [0.5444, 0.5444, 0.5444, 0.5444, 0.5444],\n",
       "          [0.5444, 0.5444, 0.5444, 0.5444, 0.5444]],\n",
       "\n",
       "         [[0.0368, 0.0368, 0.0368, 0.0368, 0.0368],\n",
       "          [0.0368, 0.0368, 0.0368, 0.0368, 0.0368],\n",
       "          [0.0368, 0.0368, 0.0368, 0.0368, 0.0368],\n",
       "          [0.0368, 0.0368, 0.0368, 0.0368, 0.0368],\n",
       "          [0.0368, 0.0368, 0.0368, 0.0368, 0.0368]]],\n",
       "\n",
       "\n",
       "        [[[0.5444, 0.5444, 0.5444, 0.5444, 0.5444],\n",
       "          [0.5444, 0.5444, 0.5444, 0.5444, 0.5444],\n",
       "          [0.5444, 0.5444, 0.5444, 0.5444, 0.5444],\n",
       "          [0.5444, 0.5444, 0.5444, 0.5444, 0.5444],\n",
       "          [0.5444, 0.5444, 0.5444, 0.5444, 0.5444]],\n",
       "\n",
       "         [[0.0368, 0.0368, 0.0368, 0.0368, 0.0368],\n",
       "          [0.0368, 0.0368, 0.0368, 0.0368, 0.0368],\n",
       "          [0.0368, 0.0368, 0.0368, 0.0368, 0.0368],\n",
       "          [0.0368, 0.0368, 0.0368, 0.0368, 0.0368],\n",
       "          [0.0368, 0.0368, 0.0368, 0.0368, 0.0368]],\n",
       "\n",
       "         [[0.5444, 0.5444, 0.5444, 0.5444, 0.5444],\n",
       "          [0.5444, 0.5444, 0.5444, 0.5444, 0.5444],\n",
       "          [0.5444, 0.5444, 0.5444, 0.5444, 0.5444],\n",
       "          [0.5444, 0.5444, 0.5444, 0.5444, 0.5444],\n",
       "          [0.5444, 0.5444, 0.5444, 0.5444, 0.5444]],\n",
       "\n",
       "         [[0.0368, 0.0368, 0.0368, 0.0368, 0.0368],\n",
       "          [0.0368, 0.0368, 0.0368, 0.0368, 0.0368],\n",
       "          [0.0368, 0.0368, 0.0368, 0.0368, 0.0368],\n",
       "          [0.0368, 0.0368, 0.0368, 0.0368, 0.0368],\n",
       "          [0.0368, 0.0368, 0.0368, 0.0368, 0.0368]]]])"
      ]
     },
     "execution_count": 48,
     "metadata": {},
     "output_type": "execute_result"
    }
   ],
   "source": [
    "d.repeat(3,2,5,5)"
   ]
  },
  {
   "cell_type": "code",
   "execution_count": 49,
   "metadata": {},
   "outputs": [
    {
     "data": {
      "text/plain": [
       "torch.Size([3, 2, 5, 5])"
      ]
     },
     "execution_count": 49,
     "metadata": {},
     "output_type": "execute_result"
    }
   ],
   "source": [
    "a.shape"
   ]
  },
  {
   "cell_type": "code",
   "execution_count": 50,
   "metadata": {},
   "outputs": [
    {
     "data": {
      "text/plain": [
       "torch.Size([3, 5, 2, 5])"
      ]
     },
     "execution_count": 50,
     "metadata": {},
     "output_type": "execute_result"
    }
   ],
   "source": [
    "a.transpose(1,2).shape"
   ]
  },
  {
   "cell_type": "code",
   "execution_count": null,
   "metadata": {},
   "outputs": [],
   "source": []
  },
  {
   "cell_type": "code",
   "execution_count": 52,
   "metadata": {},
   "outputs": [
    {
     "data": {
      "text/plain": [
       "tensor([1., 1., 1., 1., 1., 1., 1., 1.])"
      ]
     },
     "execution_count": 52,
     "metadata": {},
     "output_type": "execute_result"
    }
   ],
   "source": [
    "a = torch.ones(8)\n",
    "a"
   ]
  },
  {
   "cell_type": "code",
   "execution_count": 54,
   "metadata": {},
   "outputs": [
    {
     "data": {
      "text/plain": [
       "tensor([[1., 1., 1., 1.],\n",
       "        [1., 1., 1., 1.]])"
      ]
     },
     "execution_count": 54,
     "metadata": {},
     "output_type": "execute_result"
    }
   ],
   "source": [
    "b = a.view(2,4)\n",
    "b"
   ]
  },
  {
   "cell_type": "code",
   "execution_count": 64,
   "metadata": {},
   "outputs": [
    {
     "data": {
      "text/plain": [
       "tensor([4., 4.])"
      ]
     },
     "execution_count": 64,
     "metadata": {},
     "output_type": "execute_result"
    }
   ],
   "source": [
    "b.norm(1,dim = 1)"
   ]
  },
  {
   "cell_type": "code",
   "execution_count": 78,
   "metadata": {},
   "outputs": [
    {
     "data": {
      "text/plain": [
       "tensor([[0, 1, 2, 3, 4],\n",
       "        [5, 6, 7, 8, 9]])"
      ]
     },
     "execution_count": 78,
     "metadata": {},
     "output_type": "execute_result"
    }
   ],
   "source": [
    "a=torch.arange(0,10).view(2,5)\n",
    "a"
   ]
  },
  {
   "cell_type": "code",
   "execution_count": 79,
   "metadata": {},
   "outputs": [
    {
     "data": {
      "text/plain": [
       "tensor([1, 1, 1, 1, 1])"
      ]
     },
     "execution_count": 79,
     "metadata": {},
     "output_type": "execute_result"
    }
   ],
   "source": [
    "a.argmax(dim = 0)"
   ]
  },
  {
   "cell_type": "code",
   "execution_count": null,
   "metadata": {},
   "outputs": [],
   "source": []
  },
  {
   "cell_type": "code",
   "execution_count": null,
   "metadata": {},
   "outputs": [],
   "source": []
  },
  {
   "cell_type": "code",
   "execution_count": null,
   "metadata": {},
   "outputs": [],
   "source": []
  },
  {
   "cell_type": "code",
   "execution_count": null,
   "metadata": {},
   "outputs": [],
   "source": []
  },
  {
   "cell_type": "code",
   "execution_count": null,
   "metadata": {},
   "outputs": [],
   "source": []
  }
 ],
 "metadata": {
  "kernelspec": {
   "display_name": "python39_usual",
   "language": "python",
   "name": "python3"
  },
  "language_info": {
   "codemirror_mode": {
    "name": "ipython",
    "version": 3
   },
   "file_extension": ".py",
   "mimetype": "text/x-python",
   "name": "python",
   "nbconvert_exporter": "python",
   "pygments_lexer": "ipython3",
   "version": "3.9.18"
  }
 },
 "nbformat": 4,
 "nbformat_minor": 2
}
