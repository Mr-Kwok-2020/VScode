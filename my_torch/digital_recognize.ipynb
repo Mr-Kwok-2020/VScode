{
 "cells": [
  {
   "cell_type": "code",
   "execution_count": 1,
   "metadata": {},
   "outputs": [],
   "source": [
    "import torch\n",
    "import torch.nn as nn\n",
    "import os\n",
    "from tqdm import tqdm\n",
    "import matplotlib.pyplot as plt\n",
    "import math\n",
    "import torch\n",
    "import torch.nn as nn\n",
    "import os\n",
    "from torchvision import datasets, transforms\n",
    "from torch.utils.data import DataLoader\n",
    "import time\n",
    "# from basecode import Timer"
   ]
  },
  {
   "cell_type": "code",
   "execution_count": null,
   "metadata": {},
   "outputs": [],
   "source": [
    "import torch\n",
    "import torch.nn as nn\n",
    "from torchvision import datasets, transforms\n",
    "from torch.utils.data import DataLoader\n"
   ]
  },
  {
   "cell_type": "code",
   "execution_count": 2,
   "metadata": {},
   "outputs": [],
   "source": [
    "# device = torch.device('cuda:0')\n",
    "device = torch.device('cpu')\n"
   ]
  },
  {
   "cell_type": "code",
   "execution_count": 3,
   "metadata": {},
   "outputs": [],
   "source": [
    "class Timer:\n",
    "    \"\"\"Record multiple running times.\"\"\"\n",
    "    def __init__(self):\n",
    "        self.times = []\n",
    "        self.start()\n",
    "\n",
    "    def start(self):\n",
    "        self.tik = time.time()\n",
    "\n",
    "    def stop(self):\n",
    "        self.times.append(time.time() - self.tik)\n",
    "        return self.times[-1]\n",
    "\n",
    "    def avg(self):\n",
    "        return sum(self.times) / len(self.times)"
   ]
  },
  {
   "cell_type": "code",
   "execution_count": 4,
   "metadata": {},
   "outputs": [],
   "source": [
    "# 定义数据变换（根据需要进行修改）\n",
    "transform = transforms.Compose([\n",
    "    transforms.Resize((28, 28)),  # 调整图像大小\n",
    "    #将图片通道数转化为模型输入通道数\n",
    "    transforms.Grayscale(1),\n",
    "    transforms.ToTensor(),        # 转换为Tensor\n",
    "    transforms.Normalize((0.5), (0.5))  # 标准化图像数据\n",
    "])\n",
    "\n",
    "batch_size = 100\n",
    "\n",
    "# 设置自定义数据集文件夹路径,创建自定义数据集\n",
    "train_dataset = datasets.ImageFolder(root=r\"D:\\data\\MNIST\\train\", transform=transform)\n",
    "# 创建数据加载器\n",
    "train_loader = DataLoader(train_dataset, batch_size=batch_size, shuffle=True, num_workers=0)\n",
    "# 设置自定义数据集文件夹路径,创建自定义数据集\n",
    "val_dataset = datasets.ImageFolder(root=r\"D:\\data\\MNIST\\val\", transform=transform)\n",
    "# 创建数据加载器6\n",
    "val_loader = DataLoader(val_dataset, batch_size=batch_size, shuffle=True, num_workers=0)\n",
    "\n",
    "\n"
   ]
  },
  {
   "cell_type": "code",
   "execution_count": 5,
   "metadata": {},
   "outputs": [],
   "source": [
    "class classification_model(nn.Module):\n",
    "    def __init__(self,input_num,output_num):\n",
    "        super(classification_model,self).__init__()\n",
    " \n",
    "        self.model = nn.Sequential(\n",
    "            nn.Linear(input_num,200),\n",
    "            nn.ReLU(inplace =True),\n",
    "            nn.Linear(200,200),\n",
    "            nn.ReLU(inplace =True),\n",
    "            nn.Linear(200,200),\n",
    "            nn.ReLU(inplace =True),\n",
    "            nn.Linear(200,output_num),\n",
    "            nn.ReLU(inplace =True),\n",
    "\n",
    "    )\n",
    "\n",
    "    def forward(self,x):\n",
    "        x = self.model(x)\n",
    "        return x    "
   ]
  },
  {
   "cell_type": "code",
   "execution_count": null,
   "metadata": {},
   "outputs": [],
   "source": [
    "class Flatten(nn.Module):\n",
    "    def __init__(self):\n",
    "        super(Flatten,self).__init__()\n",
    "\n",
    "    def forward(self,input):\n",
    "        return input.view(input.Size(0),-1)"
   ]
  },
  {
   "cell_type": "code",
   "execution_count": 7,
   "metadata": {},
   "outputs": [
    {
     "name": "stdout",
     "output_type": "stream",
     "text": [
      "classification_model(\n",
      "  (model): Sequential(\n",
      "    (0): Linear(in_features=10, out_features=200, bias=True)\n",
      "    (1): ReLU(inplace=True)\n",
      "    (2): Linear(in_features=200, out_features=200, bias=True)\n",
      "    (3): ReLU(inplace=True)\n",
      "    (4): Linear(in_features=200, out_features=200, bias=True)\n",
      "    (5): ReLU(inplace=True)\n",
      "    (6): Linear(in_features=200, out_features=5, bias=True)\n",
      "    (7): ReLU(inplace=True)\n",
      "  )\n",
      ")\n"
     ]
    }
   ],
   "source": [
    "net = classification_model(10,5)\n",
    "print(net)"
   ]
  },
  {
   "cell_type": "code",
   "execution_count": 23,
   "metadata": {},
   "outputs": [],
   "source": [
    "input_num , output_num = 28*28,10\n",
    "learning_rate = 0.02\n",
    "net = classification_model(input_num,output_num).to(device)\n",
    "optimizer = torch.optim.SGD(net.parameters(),lr=learning_rate)\n",
    "criterion = nn.CrossEntropyLoss().to(device)\n"
   ]
  },
  {
   "cell_type": "code",
   "execution_count": 24,
   "metadata": {},
   "outputs": [],
   "source": [
    "def print_epoching(now,all,state): \n",
    "    print(state+'ID[{:<4}/{:<4}]'.format(\n",
    "                now+1, all          \n",
    "            ), end=\"\\r\", flush=True)  # 打印每个epoch的进展"
   ]
  },
  {
   "cell_type": "code",
   "execution_count": 25,
   "metadata": {},
   "outputs": [],
   "source": [
    "def music_play():\n",
    "   return 0"
   ]
  },
  {
   "cell_type": "code",
   "execution_count": 26,
   "metadata": {},
   "outputs": [],
   "source": [
    "def save_model(epoch, model, optimizer, loss, save_dir):\n",
    "    # 创建目录以保存模型\n",
    "    if not os.path.exists(save_dir):\n",
    "        os.makedirs(save_dir)\n",
    "\n",
    "    # 构建模型文件名\n",
    "    model_filename = os.path.join(save_dir, f\"model_epoch{epoch}.pt\")\n",
    "    \n",
    "    # 保存模型和优化器状态\n",
    "    checkpoint = {\n",
    "        'epoch': epoch,\n",
    "        'model_state_dict': model.state_dict(),\n",
    "        'optimizer_state_dict': optimizer.state_dict(),\n",
    "        'loss': loss,\n",
    "    }\n",
    "\n",
    "    torch.save(checkpoint, model_filename)\n",
    "    print(f\"Saved model checkpoint for epoch {epoch} to {model_filename}\")\n"
   ]
  },
  {
   "cell_type": "code",
   "execution_count": 29,
   "metadata": {},
   "outputs": [
    {
     "name": "stdout",
     "output_type": "stream",
     "text": [
      "Saved model checkpoint for epoch 0 to model\\model_epoch0.pt\n",
      "Epoch[1/2]; time:3.7129,3.8230; train_loss:1.4243; val_loss:1.3152; val_acc:0.5182\n",
      "Saved model checkpoint for epoch 1 to model\\model_epoch1.pt\n",
      "Epoch[2/2]; time:3.7936,3.6888; train_loss:1.2332; val_loss:1.1417; val_acc:0.6150\n"
     ]
    },
    {
     "data": {
      "text/plain": [
       "0"
      ]
     },
     "execution_count": 29,
     "metadata": {},
     "output_type": "execute_result"
    }
   ],
   "source": [
    "epochs = 100\n",
    "test_interval = 10\n",
    "\n",
    "train_loss_list = [] \n",
    "val_epoch_list = []\n",
    "val_loss_list = [] \n",
    "val_acc_list = [] \n",
    "\n",
    "train_timer  = Timer()\n",
    "val_timer  = Timer()\n",
    "\n",
    "for epoch in range(epochs):\n",
    "    \n",
    "    # 训练\n",
    "    net.train()\n",
    "    batch_loss = 0\n",
    "    train_timer.start()\n",
    "    for id,(data,target) in enumerate(train_loader):\n",
    " \n",
    "        data = data.view(-1,28*28)\n",
    "        data,target = data.to(device),target.to(device)\n",
    "        pred = net(data)        \n",
    "        loss = criterion(pred,target)\n",
    "        optimizer.zero_grad()  # 梯度清零\n",
    "        loss.backward()  # 反向传播\n",
    "        optimizer.step()  # 参数更新\n",
    "        batch_loss += loss  # 累加loss\n",
    "        # 打印当前epoch进展\n",
    "        print_epoching(id,len(train_loader),'train')\n",
    "        \n",
    "    # 保存损失值为列表,将所有batch累加的损失值除以batch数即该轮epoch的损失值\n",
    "    train_loss_list.append(batch_loss.item()/len(train_loader))\n",
    "    train_timing = train_timer.stop()\n",
    "\n",
    "\n",
    "    \n",
    "    # 测试\n",
    "    # 如果做了测试，则打印准确率\n",
    "    if (epoch % test_interval == test_interval - 1)or(epoch == 0):\n",
    "        val_timer.start()\n",
    "        net.eval()\n",
    "        batch_acc = 0\n",
    "        batch_loss = 0\n",
    "        for id,(data,target) in enumerate(val_loader):\n",
    "\n",
    "            data = data.view(-1,28*28)\n",
    "            data,target = data.to(device),target.to(device)\n",
    "            pred = net(data)            \n",
    "            loss = criterion(pred,target)\n",
    "            batch_loss += loss  # 累加loss\n",
    "            batch_acc += sum(torch.argmax(pred,dim = 1)==target)/len(data)\n",
    "\n",
    "            # 打印当前epoch进展\n",
    "            print_epoching(id,len(val_loader),'val  ')\n",
    "\n",
    "        # 保存损失值为列表,将所有batch累加的损失值除以batch数即该轮epoch的损失值\n",
    "        val_epoch_list.append(epoch)\n",
    "        val_loss_list.append(batch_loss.item()/len(train_loader))\n",
    "        # 将该轮的测试准确率保存到列表当中\n",
    "        val_acc_list.append(batch_acc.item()/len(val_loader)) \n",
    "        val_timing = val_timer.stop()\n",
    "        # 保存模型参数\n",
    "        save_model(epoch+1, net, optimizer, val_loss_list[-1], r\"model\")\n",
    "\n",
    "\n",
    "    print('Epoch[{}/{}]; time:{:0.4f},{:0.4f}; train_loss:{:0.4f}; val_loss:{:0.4f}; val_acc:{:0.4f}'.format(\n",
    "            epoch+1, epochs,            \n",
    "            train_timing,val_timing,      \n",
    "            train_loss_list[-1],\n",
    "            val_loss_list[-1],                     \n",
    "            val_acc_list[-1],       \n",
    "        ))  # 打印每个epoch的正确值  \n",
    "     \n",
    "\n",
    "music_play()"
   ]
  },
  {
   "cell_type": "code",
   "execution_count": 31,
   "metadata": {},
   "outputs": [
    {
     "data": {
      "image/png": "[encoded data removed]",
      "text/plain": [
       "<Figure size 640x480 with 1 Axes>"
      ]
     },
     "metadata": {},
     "output_type": "display_data"
    },
    {
     "data": {
      "text/plain": [
       "<Figure size 640x480 with 0 Axes>"
      ]
     },
     "metadata": {},
     "output_type": "display_data"
    }
   ],
   "source": [
    "# 保存loss图像\n",
    "plt.plot(range(len(train_loss_list)), train_loss_list, label=\"train_loss\")\n",
    "plt.plot(val_epoch_list, val_loss_list, label=\"val_loss\")\n",
    "plt.xlabel(\"epoch\")\n",
    "plt.ylabel(\"loss\")\n",
    "plt.legend()\n",
    "plt.show()\n",
    "plt.clf()"
   ]
  },
  {
   "cell_type": "code",
   "execution_count": 32,
   "metadata": {},
   "outputs": [
    {
     "data": {
      "image/png": "[encoded data removed]",
      "text/plain": [
       "<Figure size 640x480 with 1 Axes>"
      ]
     },
     "metadata": {},
     "output_type": "display_data"
    },
    {
     "data": {
      "text/plain": [
       "<Figure size 640x480 with 0 Axes>"
      ]
     },
     "metadata": {},
     "output_type": "display_data"
    }
   ],
   "source": [
    "\n",
    "plt.plot(range(len(val_acc_list)), val_acc_list, label=\"acc\")\n",
    "\n",
    "plt.xlabel(\"epoch\")\n",
    "plt.ylabel(\"loss\")\n",
    "plt.legend()\n",
    "plt.show()\n",
    "plt.clf()"
   ]
  }
 ],
 "metadata": {
  "kernelspec": {
   "display_name": "python39_usual",
   "language": "python",
   "name": "python3"
  },
  "language_info": {
   "codemirror_mode": {
    "name": "ipython",
    "version": 3
   },
   "file_extension": ".py",
   "mimetype": "text/x-python",
   "name": "python",
   "nbconvert_exporter": "python",
   "pygments_lexer": "ipython3",
   "version": "3.9.18"
  }
 },
 "nbformat": 4,
 "nbformat_minor": 2
}
